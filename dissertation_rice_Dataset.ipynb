{
  "cells": [
    {
      "cell_type": "markdown",
      "metadata": {
        "id": "view-in-github",
        "colab_type": "text"
      },
      "source": [
        "<a href=\"https://colab.research.google.com/github/Mdawood1122/MSC-Dissertation/blob/main/dissertation_rice_Dataset.ipynb\" target=\"_parent\"><img src=\"https://colab.research.google.com/assets/colab-badge.svg\" alt=\"Open In Colab\"/></a>"
      ]
    },
    {
      "cell_type": "code",
      "execution_count": null,
      "metadata": {
        "id": "6e-7BR3s7sva"
      },
      "outputs": [],
      "source": [
        "import pandas as pd\n",
        "import seaborn as sns\n",
        "import matplotlib.pyplot as plt\n",
        "from scipy import stats\n",
        "import numpy as np\n",
        "import time\n",
        "from sklearn import svm\n",
        "from sklearn.metrics import accuracy_score\n",
        "from sklearn.ensemble import RandomForestClassifier\n",
        "from sklearn.neighbors import KNeighborsClassifier\n",
        "from sklearn.metrics import mean_absolute_error\n",
        "from sklearn.model_selection import train_test_split\n",
        "from sklearn.tree import export_graphviz\n",
        "from sklearn.tree import DecisionTreeRegressor\n",
        "from sklearn.metrics import mean_squared_error\n",
        "from sklearn.metrics import r2_score\n",
        "from sklearn.tree import plot_tree\n",
        "import seaborn as sb"
      ]
    },
    {
      "cell_type": "code",
      "execution_count": null,
      "metadata": {
        "colab": {
          "base_uri": "https://localhost:8080/",
          "height": 321
        },
        "id": "bUegYWQn8vqE",
        "outputId": "eeac8481-5c4f-468f-b608-809a00a4774d"
      },
      "outputs": [
        {
          "output_type": "error",
          "ename": "FileNotFoundError",
          "evalue": "[Errno 2] No such file or directory: '/content/drive/MyDrive/rice_new.csv'",
          "traceback": [
            "\u001b[0;31m---------------------------------------------------------------------------\u001b[0m",
            "\u001b[0;31mFileNotFoundError\u001b[0m                         Traceback (most recent call last)",
            "\u001b[0;32m/tmp/ipython-input-965317631.py\u001b[0m in \u001b[0;36m<cell line: 0>\u001b[0;34m()\u001b[0m\n\u001b[0;32m----> 1\u001b[0;31m \u001b[0mdf\u001b[0m \u001b[0;34m=\u001b[0m \u001b[0mpd\u001b[0m\u001b[0;34m.\u001b[0m\u001b[0mread_csv\u001b[0m\u001b[0;34m(\u001b[0m\u001b[0;34m\"/content/drive/MyDrive/rice_new.csv\"\u001b[0m\u001b[0;34m)\u001b[0m\u001b[0;34m\u001b[0m\u001b[0;34m\u001b[0m\u001b[0m\n\u001b[0m\u001b[1;32m      2\u001b[0m \u001b[0mdf\u001b[0m\u001b[0;34m.\u001b[0m\u001b[0mhead\u001b[0m\u001b[0;34m(\u001b[0m\u001b[0;34m)\u001b[0m\u001b[0;34m\u001b[0m\u001b[0;34m\u001b[0m\u001b[0m\n",
            "\u001b[0;32m/usr/local/lib/python3.12/dist-packages/pandas/io/parsers/readers.py\u001b[0m in \u001b[0;36mread_csv\u001b[0;34m(filepath_or_buffer, sep, delimiter, header, names, index_col, usecols, dtype, engine, converters, true_values, false_values, skipinitialspace, skiprows, skipfooter, nrows, na_values, keep_default_na, na_filter, verbose, skip_blank_lines, parse_dates, infer_datetime_format, keep_date_col, date_parser, date_format, dayfirst, cache_dates, iterator, chunksize, compression, thousands, decimal, lineterminator, quotechar, quoting, doublequote, escapechar, comment, encoding, encoding_errors, dialect, on_bad_lines, delim_whitespace, low_memory, memory_map, float_precision, storage_options, dtype_backend)\u001b[0m\n\u001b[1;32m   1024\u001b[0m     \u001b[0mkwds\u001b[0m\u001b[0;34m.\u001b[0m\u001b[0mupdate\u001b[0m\u001b[0;34m(\u001b[0m\u001b[0mkwds_defaults\u001b[0m\u001b[0;34m)\u001b[0m\u001b[0;34m\u001b[0m\u001b[0;34m\u001b[0m\u001b[0m\n\u001b[1;32m   1025\u001b[0m \u001b[0;34m\u001b[0m\u001b[0m\n\u001b[0;32m-> 1026\u001b[0;31m     \u001b[0;32mreturn\u001b[0m \u001b[0m_read\u001b[0m\u001b[0;34m(\u001b[0m\u001b[0mfilepath_or_buffer\u001b[0m\u001b[0;34m,\u001b[0m \u001b[0mkwds\u001b[0m\u001b[0;34m)\u001b[0m\u001b[0;34m\u001b[0m\u001b[0;34m\u001b[0m\u001b[0m\n\u001b[0m\u001b[1;32m   1027\u001b[0m \u001b[0;34m\u001b[0m\u001b[0m\n\u001b[1;32m   1028\u001b[0m \u001b[0;34m\u001b[0m\u001b[0m\n",
            "\u001b[0;32m/usr/local/lib/python3.12/dist-packages/pandas/io/parsers/readers.py\u001b[0m in \u001b[0;36m_read\u001b[0;34m(filepath_or_buffer, kwds)\u001b[0m\n\u001b[1;32m    618\u001b[0m \u001b[0;34m\u001b[0m\u001b[0m\n\u001b[1;32m    619\u001b[0m     \u001b[0;31m# Create the parser.\u001b[0m\u001b[0;34m\u001b[0m\u001b[0;34m\u001b[0m\u001b[0m\n\u001b[0;32m--> 620\u001b[0;31m     \u001b[0mparser\u001b[0m \u001b[0;34m=\u001b[0m \u001b[0mTextFileReader\u001b[0m\u001b[0;34m(\u001b[0m\u001b[0mfilepath_or_buffer\u001b[0m\u001b[0;34m,\u001b[0m \u001b[0;34m**\u001b[0m\u001b[0mkwds\u001b[0m\u001b[0;34m)\u001b[0m\u001b[0;34m\u001b[0m\u001b[0;34m\u001b[0m\u001b[0m\n\u001b[0m\u001b[1;32m    621\u001b[0m \u001b[0;34m\u001b[0m\u001b[0m\n\u001b[1;32m    622\u001b[0m     \u001b[0;32mif\u001b[0m \u001b[0mchunksize\u001b[0m \u001b[0;32mor\u001b[0m \u001b[0miterator\u001b[0m\u001b[0;34m:\u001b[0m\u001b[0;34m\u001b[0m\u001b[0;34m\u001b[0m\u001b[0m\n",
            "\u001b[0;32m/usr/local/lib/python3.12/dist-packages/pandas/io/parsers/readers.py\u001b[0m in \u001b[0;36m__init__\u001b[0;34m(self, f, engine, **kwds)\u001b[0m\n\u001b[1;32m   1618\u001b[0m \u001b[0;34m\u001b[0m\u001b[0m\n\u001b[1;32m   1619\u001b[0m         \u001b[0mself\u001b[0m\u001b[0;34m.\u001b[0m\u001b[0mhandles\u001b[0m\u001b[0;34m:\u001b[0m \u001b[0mIOHandles\u001b[0m \u001b[0;34m|\u001b[0m \u001b[0;32mNone\u001b[0m \u001b[0;34m=\u001b[0m \u001b[0;32mNone\u001b[0m\u001b[0;34m\u001b[0m\u001b[0;34m\u001b[0m\u001b[0m\n\u001b[0;32m-> 1620\u001b[0;31m         \u001b[0mself\u001b[0m\u001b[0;34m.\u001b[0m\u001b[0m_engine\u001b[0m \u001b[0;34m=\u001b[0m \u001b[0mself\u001b[0m\u001b[0;34m.\u001b[0m\u001b[0m_make_engine\u001b[0m\u001b[0;34m(\u001b[0m\u001b[0mf\u001b[0m\u001b[0;34m,\u001b[0m \u001b[0mself\u001b[0m\u001b[0;34m.\u001b[0m\u001b[0mengine\u001b[0m\u001b[0;34m)\u001b[0m\u001b[0;34m\u001b[0m\u001b[0;34m\u001b[0m\u001b[0m\n\u001b[0m\u001b[1;32m   1621\u001b[0m \u001b[0;34m\u001b[0m\u001b[0m\n\u001b[1;32m   1622\u001b[0m     \u001b[0;32mdef\u001b[0m \u001b[0mclose\u001b[0m\u001b[0;34m(\u001b[0m\u001b[0mself\u001b[0m\u001b[0;34m)\u001b[0m \u001b[0;34m->\u001b[0m \u001b[0;32mNone\u001b[0m\u001b[0;34m:\u001b[0m\u001b[0;34m\u001b[0m\u001b[0;34m\u001b[0m\u001b[0m\n",
            "\u001b[0;32m/usr/local/lib/python3.12/dist-packages/pandas/io/parsers/readers.py\u001b[0m in \u001b[0;36m_make_engine\u001b[0;34m(self, f, engine)\u001b[0m\n\u001b[1;32m   1878\u001b[0m                 \u001b[0;32mif\u001b[0m \u001b[0;34m\"b\"\u001b[0m \u001b[0;32mnot\u001b[0m \u001b[0;32min\u001b[0m \u001b[0mmode\u001b[0m\u001b[0;34m:\u001b[0m\u001b[0;34m\u001b[0m\u001b[0;34m\u001b[0m\u001b[0m\n\u001b[1;32m   1879\u001b[0m                     \u001b[0mmode\u001b[0m \u001b[0;34m+=\u001b[0m \u001b[0;34m\"b\"\u001b[0m\u001b[0;34m\u001b[0m\u001b[0;34m\u001b[0m\u001b[0m\n\u001b[0;32m-> 1880\u001b[0;31m             self.handles = get_handle(\n\u001b[0m\u001b[1;32m   1881\u001b[0m                 \u001b[0mf\u001b[0m\u001b[0;34m,\u001b[0m\u001b[0;34m\u001b[0m\u001b[0;34m\u001b[0m\u001b[0m\n\u001b[1;32m   1882\u001b[0m                 \u001b[0mmode\u001b[0m\u001b[0;34m,\u001b[0m\u001b[0;34m\u001b[0m\u001b[0;34m\u001b[0m\u001b[0m\n",
            "\u001b[0;32m/usr/local/lib/python3.12/dist-packages/pandas/io/common.py\u001b[0m in \u001b[0;36mget_handle\u001b[0;34m(path_or_buf, mode, encoding, compression, memory_map, is_text, errors, storage_options)\u001b[0m\n\u001b[1;32m    871\u001b[0m         \u001b[0;32mif\u001b[0m \u001b[0mioargs\u001b[0m\u001b[0;34m.\u001b[0m\u001b[0mencoding\u001b[0m \u001b[0;32mand\u001b[0m \u001b[0;34m\"b\"\u001b[0m \u001b[0;32mnot\u001b[0m \u001b[0;32min\u001b[0m \u001b[0mioargs\u001b[0m\u001b[0;34m.\u001b[0m\u001b[0mmode\u001b[0m\u001b[0;34m:\u001b[0m\u001b[0;34m\u001b[0m\u001b[0;34m\u001b[0m\u001b[0m\n\u001b[1;32m    872\u001b[0m             \u001b[0;31m# Encoding\u001b[0m\u001b[0;34m\u001b[0m\u001b[0;34m\u001b[0m\u001b[0m\n\u001b[0;32m--> 873\u001b[0;31m             handle = open(\n\u001b[0m\u001b[1;32m    874\u001b[0m                 \u001b[0mhandle\u001b[0m\u001b[0;34m,\u001b[0m\u001b[0;34m\u001b[0m\u001b[0;34m\u001b[0m\u001b[0m\n\u001b[1;32m    875\u001b[0m                 \u001b[0mioargs\u001b[0m\u001b[0;34m.\u001b[0m\u001b[0mmode\u001b[0m\u001b[0;34m,\u001b[0m\u001b[0;34m\u001b[0m\u001b[0;34m\u001b[0m\u001b[0m\n",
            "\u001b[0;31mFileNotFoundError\u001b[0m: [Errno 2] No such file or directory: '/content/drive/MyDrive/rice_new.csv'"
          ]
        }
      ],
      "source": [
        "df = pd.read_csv(\"/content/drive/MyDrive/rice_new.csv\")\n",
        "df.head()"
      ]
    },
    {
      "cell_type": "code",
      "execution_count": null,
      "metadata": {
        "id": "K1xkizpV8xEv"
      },
      "outputs": [],
      "source": [
        "X = df.drop(columns = ['Class'])              #drop 'Class' variable and move all other variable in X\n",
        "y = df['Class'].values                        # assign target class to y\n",
        "X_train, X_test, y_train, y_test = train_test_split(X, y, test_size=0.3, random_state=100)   #train test split 30% training, 70% testing"
      ]
    },
    {
      "cell_type": "code",
      "execution_count": null,
      "metadata": {
        "id": "7BCoNrNi80F1"
      },
      "outputs": [],
      "source": [
        "df.info()"
      ]
    },
    {
      "cell_type": "code",
      "execution_count": null,
      "metadata": {
        "id": "zeMJCP5T9BMt"
      },
      "outputs": [],
      "source": [
        " df['Class'].value_counts()"
      ]
    },
    {
      "cell_type": "code",
      "execution_count": null,
      "metadata": {
        "id": "g5dWNVbk9WuA"
      },
      "outputs": [],
      "source": [
        "sb.countplot(x='Class',data=df)            # plot labels"
      ]
    },
    {
      "cell_type": "code",
      "execution_count": null,
      "metadata": {
        "id": "cXcOEgmOB7rO"
      },
      "outputs": [],
      "source": [
        "df.isnull().sum()                            # check for missing values"
      ]
    },
    {
      "cell_type": "markdown",
      "metadata": {
        "id": "2scSlQ5o9xgx"
      },
      "source": [
        "**Evaluation of model on Default hyperparamters value**"
      ]
    },
    {
      "cell_type": "code",
      "execution_count": null,
      "metadata": {
        "id": "Kd7E48Wd9R2j"
      },
      "outputs": [],
      "source": [
        "RFC = RandomForestClassifier()                        #Create Random Forest Classifier\n",
        "RFC_rice=RFC.fit(X_train, y_train)                    #train model on training set\n",
        "RFC_rice.score(X_test,y_test)                         #test model on test set"
      ]
    },
    {
      "cell_type": "code",
      "execution_count": null,
      "metadata": {
        "id": "XA9kTztQ9-4t"
      },
      "outputs": [],
      "source": [
        "svm_classi = svm.SVC()                                #create SVC model\n",
        "SVC_rice=svm_classi.fit(X_train, y_train)             #training of model\n",
        "SVC_rice.score(X_test,y_test)                         # testing of model"
      ]
    },
    {
      "cell_type": "code",
      "execution_count": null,
      "metadata": {
        "id": "ZpC4j1Ri-M_K"
      },
      "outputs": [],
      "source": [
        "knn = KNeighborsClassifier()                          #create KNN model\n",
        "KNN_rice=knn.fit(X_train,y_train)                     #training of knn\n",
        "KNN_rice.score(X_test,y_test)                         #testing"
      ]
    },
    {
      "cell_type": "code",
      "execution_count": null,
      "metadata": {
        "id": "4qurl7D49l8_"
      },
      "outputs": [],
      "source": [
        "import matplotlib.pyplot as plt\n",
        "import seaborn as sns\n",
        "from sklearn.metrics import confusion_matrix, classification_report\n",
        "\n",
        "# Assuming you have trained the KNN classifier and obtained 'model'\n",
        "\n",
        "# 1. Make predictions on the test data\n",
        "y_pred = RFC_rice.predict(X_test)\n",
        "\n",
        "# 2. Create a confusion matrix\n",
        "cm = confusion_matrix(y_test, y_pred)\n",
        "\n",
        "# 3. Visualize the confusion matrix using a heatmap\n",
        "plt.figure(figsize=(8, 6))\n",
        "sns.heatmap(cm, annot=True, fmt='d', cmap='Blues')\n",
        "plt.xlabel('Predicted Labels')\n",
        "plt.ylabel('True Labels')\n",
        "plt.title('Confusion Matrix')\n",
        "plt.show()\n",
        "# 4. Show the classification report\n",
        "print(classification_report(y_test, y_pred))"
      ]
    },
    {
      "cell_type": "code",
      "execution_count": null,
      "metadata": {
        "id": "gmnPu9qH_KhY"
      },
      "outputs": [],
      "source": [
        "pip install scikit-optimize"
      ]
    },
    {
      "cell_type": "markdown",
      "metadata": {
        "id": "0RK4ltvJ_W7H"
      },
      "source": [
        "**Bayesian Search for SVC**"
      ]
    },
    {
      "cell_type": "code",
      "execution_count": null,
      "metadata": {
        "id": "mZPp4qen_MaH"
      },
      "outputs": [],
      "source": [
        "from skopt import BayesSearchCV\n",
        "param_space = {\n",
        "    'C': (0.1, 1.0, 'log-uniform'),          # Smaller range for C\n",
        "    'kernel': ['linear', 'rbf'],\n",
        "    'gamma': (1e-6, 1e-2, 'log-uniform')     # Smaller range for gamma\n",
        "}\n",
        "start_time = time.time()                     #start timer\n",
        "opt = BayesSearchCV(SVC_rice, param_space, n_iter=10, cv=5, n_jobs=-1)     #Bayesian Optimization algorithm\n",
        "opt.fit(X_train, y_train)                    #train optimiztion algorithm\n",
        "end_time = time.time()\n",
        "execution_time = end_time - start_time       #find execution time of algorithm\n",
        "best_params = opt.best_params_               #Best hyperparameters value\n",
        "best_model = opt.best_estimator_\n",
        "test_accuracy = best_model.score(X_test, y_test)    #evaluation of model on test dataset\n",
        "print('Test accuracy:', test_accuracy)\n",
        "print('Time taken (in seconds):', execution_time)"
      ]
    },
    {
      "cell_type": "markdown",
      "metadata": {
        "id": "yRx96gWF_jzq"
      },
      "source": [
        "**Bayesian search for KNN**"
      ]
    },
    {
      "cell_type": "code",
      "execution_count": null,
      "metadata": {
        "id": "sj65M_xW_oPN"
      },
      "outputs": [],
      "source": [
        "from skopt import BayesSearchCV\n",
        "\n",
        "param_space = {\n",
        "    'n_neighbors': (1, 35),              # Number of neighbors\n",
        "    'weights': ['uniform', 'distance'],  # Weight function\n",
        "    'p': (1, 2)                          # Power parameter (1 for Manhattan, 2 for Euclidean)\n",
        "}\n",
        "start_time = time.time()\n",
        "opt = BayesSearchCV(KNN_rice, param_space, n_iter=50, cv=5)   # Perform Bayesian Optimization\n",
        "opt.fit(X_train, y_train)\n",
        "end_time = time.time()\n",
        "execution_time = end_time - start_time\n",
        "best_params = opt.best_params_           # Best hyperparameters and best model\n",
        "best_model = opt.best_estimator_\n",
        "test_accuracy = best_model.score(X_test, y_test)\n",
        "print('Test accuracy:', test_accuracy)     #accuracy of the model on the test dataset\n",
        "print('Time taken (in seconds):', execution_time)"
      ]
    },
    {
      "cell_type": "markdown",
      "metadata": {
        "id": "sKqLXgu__2UX"
      },
      "source": [
        "**Random Search for SVC**"
      ]
    },
    {
      "cell_type": "code",
      "execution_count": null,
      "metadata": {
        "id": "je1efBl2_3D6"
      },
      "outputs": [],
      "source": [
        "from sklearn.model_selection import GridSearchCV\n",
        "param_grid = {\n",
        "    'C': [0.1, 1.0, 10.0],                          #candidate value for C\n",
        "    'kernel': ['linear', 'rbf'],                    #list of kernal\n",
        "    'gamma': [0.001, 0.01, 0.1, 'scale', 'auto']    #vlaues of gamma\n",
        "}\n",
        "start_time = time.time()                            #start timer\n",
        "grid_search = GridSearchCV(SVC_rice, param_grid, cv=5) # creation Grid Search\n",
        "grid_search.fit(X_train, y_train)                       #training of model\n",
        "end_time = time.time()\n",
        "execution_time = end_time - start_time              #time grid search take to execute\n",
        "best_params = grid_search.best_params_              #best hyperparameter values\n",
        "best_model = grid_search.best_estimator_\n",
        "test_accuracy = best_model.score(X_test, y_test) # Evaluate the best model on the test data\n",
        "print('Test accuracy:', test_accuracy)\n",
        "print('Time taken (in seconds):', execution_time)"
      ]
    },
    {
      "cell_type": "markdown",
      "metadata": {
        "id": "_dYaOju2_34F"
      },
      "source": [
        "**Random Search for KNN**"
      ]
    },
    {
      "cell_type": "code",
      "execution_count": null,
      "metadata": {
        "id": "jcJPWtrD_4O6"
      },
      "outputs": [],
      "source": [
        "from sklearn.model_selection import RandomizedSearchCV\n",
        "from scipy.stats import randint, uniform\n",
        "param_dist = {\n",
        "    'n_neighbors': randint(1,50 ),           #Number of neighbors\n",
        "    'weights': ['uniform', 'distance'],      # Weight function\n",
        "    'p': [1, 20]                             #Power parameter (1 for Manhattan, 2 for Euclidean)\n",
        "}\n",
        "start_time = time.time()\n",
        "random_search = RandomizedSearchCV(KNN_rice, param_distributions=param_dist, n_iter=150, cv=20) # creation of Random search algorithm\n",
        "random_search.fit(X_train, y_train)\n",
        "end_time = time.time()\n",
        "execution_time = end_time - start_time     #calculation of execution time\n",
        "best_params = random_search.best_params_   #best hyperparameters value\n",
        "best_model = random_search.best_estimator_\n",
        "test_accuracy = best_model.score(X_test, y_test) # Evaluate the best model on the test data\n",
        "print('Test accuracy:', test_accuracy)\n",
        "print('Time taken (in seconds):', execution_time)"
      ]
    },
    {
      "cell_type": "markdown",
      "metadata": {
        "id": "TXdiT8HGAFTU"
      },
      "source": [
        "**Grid Search for SVC**"
      ]
    },
    {
      "cell_type": "code",
      "execution_count": null,
      "metadata": {
        "id": "BrzOwr_TAFot"
      },
      "outputs": [],
      "source": [
        "from sklearn.model_selection import GridSearchCV\n",
        "param_grid = {\n",
        "    'C': [0.1, 1.0, 10.0],\n",
        "    'kernel': ['linear', 'rbf'],\n",
        "    'gamma': [0.001, 0.01, 0.1, 'scale', 'auto']\n",
        "}\n",
        "start_time = time.time()\n",
        "grid_search = GridSearchCV(SVC_rice, param_grid, cv=5)          #creation of Grid Search algorithm\n",
        "grid_search.fit(X_train, y_train)\n",
        "end_time = time.time()\n",
        "execution_time = end_time - start_time                          #calculation of execution time\n",
        "best_params = grid_search.best_params_                          # Best hyperparameters values\n",
        "best_model = grid_search.best_estimator_\n",
        "test_accuracy = best_model.score(X_test, y_test)                #evaluation of the optimized algorithm on test dataset\n",
        "print('Test accuracy:', test_accuracy)\n",
        "print('Time taken (in seconds):', execution_time)"
      ]
    },
    {
      "cell_type": "markdown",
      "metadata": {
        "id": "8QvxfVUSAF49"
      },
      "source": [
        "**Grid Search for KNN**"
      ]
    },
    {
      "cell_type": "code",
      "execution_count": null,
      "metadata": {
        "id": "v_wkIw3vAGue"
      },
      "outputs": [],
      "source": [
        "from sklearn.model_selection import GridSearchCV\n",
        "param_grid = {\n",
        "    'n_neighbors': range(1, 50),         # Number of neighbors\n",
        "    'weights': ['uniform', 'distance'],  # Weight function\n",
        "    'p': [1, 3]                          # Power parameter (1 for Manhattan, 2 for Euclidean)\n",
        "}\n",
        "start_time = time.time()\n",
        "grid_search = GridSearchCV(KNN_rice, param_grid, cv=5)   #Grid Search algorithm\n",
        "grid_search.fit(X_train, y_train)\n",
        "end_time = time.time()\n",
        "execution_time = end_time - start_time                   #execution time of grid search\n",
        "best_params = grid_search.best_params_                   # Best hyperparameters and best model\n",
        "best_model = grid_search.best_estimator_\n",
        "test_accuracy = best_model.score(X_test, y_test)         #model evalution on the test dataset\n",
        "print('Test accuracy:', test_accuracy)\n",
        "print('Time taken (in seconds):', execution_time)"
      ]
    }
  ],
  "metadata": {
    "colab": {
      "provenance": [],
      "mount_file_id": "1Wpn5Of4IuDpNi_MK7phMKaiw8kjmRMU1",
      "authorship_tag": "ABX9TyNypcdYipkIUp7zo1Mg1TVT",
      "include_colab_link": true
    },
    "kernelspec": {
      "display_name": "Python 3",
      "name": "python3"
    },
    "language_info": {
      "name": "python"
    }
  },
  "nbformat": 4,
  "nbformat_minor": 0
}