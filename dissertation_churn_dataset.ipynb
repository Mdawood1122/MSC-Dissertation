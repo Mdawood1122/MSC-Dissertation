{
  "cells": [
    {
      "cell_type": "markdown",
      "metadata": {
        "id": "view-in-github",
        "colab_type": "text"
      },
      "source": [
        "<a href=\"https://colab.research.google.com/github/Mdawood1122/MSC-Dissertation/blob/main/dissertation_churn_dataset.ipynb\" target=\"_parent\"><img src=\"https://colab.research.google.com/assets/colab-badge.svg\" alt=\"Open In Colab\"/></a>"
      ]
    },
    {
      "cell_type": "code",
      "execution_count": null,
      "metadata": {
        "id": "FUkjs-sAIRiI"
      },
      "outputs": [],
      "source": [
        "import pandas as pd\n",
        "import seaborn as sns\n",
        "import matplotlib.pyplot as plt\n",
        "from scipy import stats\n",
        "import numpy as np\n",
        "from sklearn import svm\n",
        "from sklearn.metrics import accuracy_score\n",
        "from sklearn.ensemble import RandomForestClassifier\n",
        "from sklearn.neighbors import KNeighborsClassifier\n",
        "from sklearn.metrics import mean_absolute_error\n",
        "from sklearn.model_selection import train_test_split\n",
        "from sklearn.tree import export_graphviz\n",
        "from sklearn.tree import DecisionTreeRegressor\n",
        "from sklearn.metrics import mean_squared_error\n",
        "from sklearn.metrics import r2_score\n",
        "from sklearn.tree import plot_tree\n",
        "import time"
      ]
    },
    {
      "cell_type": "code",
      "execution_count": null,
      "metadata": {
        "colab": {
          "base_uri": "https://localhost:8080/",
          "height": 206
        },
        "id": "p_1kIyP7I4iu",
        "outputId": "c65d695b-16d7-42a6-e62a-e07403b59dcf"
      },
      "outputs": [
        {
          "output_type": "execute_result",
          "data": {
            "text/plain": [
              "   Churn  AccountWeeks  ContractRenewal  DataPlan  DataUsage  CustServCalls  \\\n",
              "0      0           128                1         1        2.7              1   \n",
              "1      0           107                1         1        3.7              1   \n",
              "2      0           137                1         0        0.0              0   \n",
              "3      0            84                0         0        0.0              2   \n",
              "4      0            75                0         0        0.0              3   \n",
              "\n",
              "   DayMins  DayCalls  MonthlyCharge  OverageFee  RoamMins  \n",
              "0    265.1       110           89.0        9.87      10.0  \n",
              "1    161.6       123           82.0        9.78      13.7  \n",
              "2    243.4       114           52.0        6.06      12.2  \n",
              "3    299.4        71           57.0        3.10       6.6  \n",
              "4    166.7       113           41.0        7.42      10.1  "
            ],
            "text/html": [
              "\n",
              "  <div id=\"df-76e9fd85-3ac4-47ea-b512-2648776404b1\" class=\"colab-df-container\">\n",
              "    <div>\n",
              "<style scoped>\n",
              "    .dataframe tbody tr th:only-of-type {\n",
              "        vertical-align: middle;\n",
              "    }\n",
              "\n",
              "    .dataframe tbody tr th {\n",
              "        vertical-align: top;\n",
              "    }\n",
              "\n",
              "    .dataframe thead th {\n",
              "        text-align: right;\n",
              "    }\n",
              "</style>\n",
              "<table border=\"1\" class=\"dataframe\">\n",
              "  <thead>\n",
              "    <tr style=\"text-align: right;\">\n",
              "      <th></th>\n",
              "      <th>Churn</th>\n",
              "      <th>AccountWeeks</th>\n",
              "      <th>ContractRenewal</th>\n",
              "      <th>DataPlan</th>\n",
              "      <th>DataUsage</th>\n",
              "      <th>CustServCalls</th>\n",
              "      <th>DayMins</th>\n",
              "      <th>DayCalls</th>\n",
              "      <th>MonthlyCharge</th>\n",
              "      <th>OverageFee</th>\n",
              "      <th>RoamMins</th>\n",
              "    </tr>\n",
              "  </thead>\n",
              "  <tbody>\n",
              "    <tr>\n",
              "      <th>0</th>\n",
              "      <td>0</td>\n",
              "      <td>128</td>\n",
              "      <td>1</td>\n",
              "      <td>1</td>\n",
              "      <td>2.7</td>\n",
              "      <td>1</td>\n",
              "      <td>265.1</td>\n",
              "      <td>110</td>\n",
              "      <td>89.0</td>\n",
              "      <td>9.87</td>\n",
              "      <td>10.0</td>\n",
              "    </tr>\n",
              "    <tr>\n",
              "      <th>1</th>\n",
              "      <td>0</td>\n",
              "      <td>107</td>\n",
              "      <td>1</td>\n",
              "      <td>1</td>\n",
              "      <td>3.7</td>\n",
              "      <td>1</td>\n",
              "      <td>161.6</td>\n",
              "      <td>123</td>\n",
              "      <td>82.0</td>\n",
              "      <td>9.78</td>\n",
              "      <td>13.7</td>\n",
              "    </tr>\n",
              "    <tr>\n",
              "      <th>2</th>\n",
              "      <td>0</td>\n",
              "      <td>137</td>\n",
              "      <td>1</td>\n",
              "      <td>0</td>\n",
              "      <td>0.0</td>\n",
              "      <td>0</td>\n",
              "      <td>243.4</td>\n",
              "      <td>114</td>\n",
              "      <td>52.0</td>\n",
              "      <td>6.06</td>\n",
              "      <td>12.2</td>\n",
              "    </tr>\n",
              "    <tr>\n",
              "      <th>3</th>\n",
              "      <td>0</td>\n",
              "      <td>84</td>\n",
              "      <td>0</td>\n",
              "      <td>0</td>\n",
              "      <td>0.0</td>\n",
              "      <td>2</td>\n",
              "      <td>299.4</td>\n",
              "      <td>71</td>\n",
              "      <td>57.0</td>\n",
              "      <td>3.10</td>\n",
              "      <td>6.6</td>\n",
              "    </tr>\n",
              "    <tr>\n",
              "      <th>4</th>\n",
              "      <td>0</td>\n",
              "      <td>75</td>\n",
              "      <td>0</td>\n",
              "      <td>0</td>\n",
              "      <td>0.0</td>\n",
              "      <td>3</td>\n",
              "      <td>166.7</td>\n",
              "      <td>113</td>\n",
              "      <td>41.0</td>\n",
              "      <td>7.42</td>\n",
              "      <td>10.1</td>\n",
              "    </tr>\n",
              "  </tbody>\n",
              "</table>\n",
              "</div>\n",
              "    <div class=\"colab-df-buttons\">\n",
              "\n",
              "  <div class=\"colab-df-container\">\n",
              "    <button class=\"colab-df-convert\" onclick=\"convertToInteractive('df-76e9fd85-3ac4-47ea-b512-2648776404b1')\"\n",
              "            title=\"Convert this dataframe to an interactive table.\"\n",
              "            style=\"display:none;\">\n",
              "\n",
              "  <svg xmlns=\"http://www.w3.org/2000/svg\" height=\"24px\" viewBox=\"0 -960 960 960\">\n",
              "    <path d=\"M120-120v-720h720v720H120Zm60-500h600v-160H180v160Zm220 220h160v-160H400v160Zm0 220h160v-160H400v160ZM180-400h160v-160H180v160Zm440 0h160v-160H620v160ZM180-180h160v-160H180v160Zm440 0h160v-160H620v160Z\"/>\n",
              "  </svg>\n",
              "    </button>\n",
              "\n",
              "  <style>\n",
              "    .colab-df-container {\n",
              "      display:flex;\n",
              "      gap: 12px;\n",
              "    }\n",
              "\n",
              "    .colab-df-convert {\n",
              "      background-color: #E8F0FE;\n",
              "      border: none;\n",
              "      border-radius: 50%;\n",
              "      cursor: pointer;\n",
              "      display: none;\n",
              "      fill: #1967D2;\n",
              "      height: 32px;\n",
              "      padding: 0 0 0 0;\n",
              "      width: 32px;\n",
              "    }\n",
              "\n",
              "    .colab-df-convert:hover {\n",
              "      background-color: #E2EBFA;\n",
              "      box-shadow: 0px 1px 2px rgba(60, 64, 67, 0.3), 0px 1px 3px 1px rgba(60, 64, 67, 0.15);\n",
              "      fill: #174EA6;\n",
              "    }\n",
              "\n",
              "    .colab-df-buttons div {\n",
              "      margin-bottom: 4px;\n",
              "    }\n",
              "\n",
              "    [theme=dark] .colab-df-convert {\n",
              "      background-color: #3B4455;\n",
              "      fill: #D2E3FC;\n",
              "    }\n",
              "\n",
              "    [theme=dark] .colab-df-convert:hover {\n",
              "      background-color: #434B5C;\n",
              "      box-shadow: 0px 1px 3px 1px rgba(0, 0, 0, 0.15);\n",
              "      filter: drop-shadow(0px 1px 2px rgba(0, 0, 0, 0.3));\n",
              "      fill: #FFFFFF;\n",
              "    }\n",
              "  </style>\n",
              "\n",
              "    <script>\n",
              "      const buttonEl =\n",
              "        document.querySelector('#df-76e9fd85-3ac4-47ea-b512-2648776404b1 button.colab-df-convert');\n",
              "      buttonEl.style.display =\n",
              "        google.colab.kernel.accessAllowed ? 'block' : 'none';\n",
              "\n",
              "      async function convertToInteractive(key) {\n",
              "        const element = document.querySelector('#df-76e9fd85-3ac4-47ea-b512-2648776404b1');\n",
              "        const dataTable =\n",
              "          await google.colab.kernel.invokeFunction('convertToInteractive',\n",
              "                                                    [key], {});\n",
              "        if (!dataTable) return;\n",
              "\n",
              "        const docLinkHtml = 'Like what you see? Visit the ' +\n",
              "          '<a target=\"_blank\" href=https://colab.research.google.com/notebooks/data_table.ipynb>data table notebook</a>'\n",
              "          + ' to learn more about interactive tables.';\n",
              "        element.innerHTML = '';\n",
              "        dataTable['output_type'] = 'display_data';\n",
              "        await google.colab.output.renderOutput(dataTable, element);\n",
              "        const docLink = document.createElement('div');\n",
              "        docLink.innerHTML = docLinkHtml;\n",
              "        element.appendChild(docLink);\n",
              "      }\n",
              "    </script>\n",
              "  </div>\n",
              "\n",
              "\n",
              "<div id=\"df-2b038f32-6a35-4f2d-98a9-962e6e4719e3\">\n",
              "  <button class=\"colab-df-quickchart\" onclick=\"quickchart('df-2b038f32-6a35-4f2d-98a9-962e6e4719e3')\"\n",
              "            title=\"Suggest charts.\"\n",
              "            style=\"display:none;\">\n",
              "\n",
              "<svg xmlns=\"http://www.w3.org/2000/svg\" height=\"24px\"viewBox=\"0 0 24 24\"\n",
              "     width=\"24px\">\n",
              "    <g>\n",
              "        <path d=\"M19 3H5c-1.1 0-2 .9-2 2v14c0 1.1.9 2 2 2h14c1.1 0 2-.9 2-2V5c0-1.1-.9-2-2-2zM9 17H7v-7h2v7zm4 0h-2V7h2v10zm4 0h-2v-4h2v4z\"/>\n",
              "    </g>\n",
              "</svg>\n",
              "  </button>\n",
              "\n",
              "<style>\n",
              "  .colab-df-quickchart {\n",
              "      --bg-color: #E8F0FE;\n",
              "      --fill-color: #1967D2;\n",
              "      --hover-bg-color: #E2EBFA;\n",
              "      --hover-fill-color: #174EA6;\n",
              "      --disabled-fill-color: #AAA;\n",
              "      --disabled-bg-color: #DDD;\n",
              "  }\n",
              "\n",
              "  [theme=dark] .colab-df-quickchart {\n",
              "      --bg-color: #3B4455;\n",
              "      --fill-color: #D2E3FC;\n",
              "      --hover-bg-color: #434B5C;\n",
              "      --hover-fill-color: #FFFFFF;\n",
              "      --disabled-bg-color: #3B4455;\n",
              "      --disabled-fill-color: #666;\n",
              "  }\n",
              "\n",
              "  .colab-df-quickchart {\n",
              "    background-color: var(--bg-color);\n",
              "    border: none;\n",
              "    border-radius: 50%;\n",
              "    cursor: pointer;\n",
              "    display: none;\n",
              "    fill: var(--fill-color);\n",
              "    height: 32px;\n",
              "    padding: 0;\n",
              "    width: 32px;\n",
              "  }\n",
              "\n",
              "  .colab-df-quickchart:hover {\n",
              "    background-color: var(--hover-bg-color);\n",
              "    box-shadow: 0 1px 2px rgba(60, 64, 67, 0.3), 0 1px 3px 1px rgba(60, 64, 67, 0.15);\n",
              "    fill: var(--button-hover-fill-color);\n",
              "  }\n",
              "\n",
              "  .colab-df-quickchart-complete:disabled,\n",
              "  .colab-df-quickchart-complete:disabled:hover {\n",
              "    background-color: var(--disabled-bg-color);\n",
              "    fill: var(--disabled-fill-color);\n",
              "    box-shadow: none;\n",
              "  }\n",
              "\n",
              "  .colab-df-spinner {\n",
              "    border: 2px solid var(--fill-color);\n",
              "    border-color: transparent;\n",
              "    border-bottom-color: var(--fill-color);\n",
              "    animation:\n",
              "      spin 1s steps(1) infinite;\n",
              "  }\n",
              "\n",
              "  @keyframes spin {\n",
              "    0% {\n",
              "      border-color: transparent;\n",
              "      border-bottom-color: var(--fill-color);\n",
              "      border-left-color: var(--fill-color);\n",
              "    }\n",
              "    20% {\n",
              "      border-color: transparent;\n",
              "      border-left-color: var(--fill-color);\n",
              "      border-top-color: var(--fill-color);\n",
              "    }\n",
              "    30% {\n",
              "      border-color: transparent;\n",
              "      border-left-color: var(--fill-color);\n",
              "      border-top-color: var(--fill-color);\n",
              "      border-right-color: var(--fill-color);\n",
              "    }\n",
              "    40% {\n",
              "      border-color: transparent;\n",
              "      border-right-color: var(--fill-color);\n",
              "      border-top-color: var(--fill-color);\n",
              "    }\n",
              "    60% {\n",
              "      border-color: transparent;\n",
              "      border-right-color: var(--fill-color);\n",
              "    }\n",
              "    80% {\n",
              "      border-color: transparent;\n",
              "      border-right-color: var(--fill-color);\n",
              "      border-bottom-color: var(--fill-color);\n",
              "    }\n",
              "    90% {\n",
              "      border-color: transparent;\n",
              "      border-bottom-color: var(--fill-color);\n",
              "    }\n",
              "  }\n",
              "</style>\n",
              "\n",
              "  <script>\n",
              "    async function quickchart(key) {\n",
              "      const quickchartButtonEl =\n",
              "        document.querySelector('#' + key + ' button');\n",
              "      quickchartButtonEl.disabled = true;  // To prevent multiple clicks.\n",
              "      quickchartButtonEl.classList.add('colab-df-spinner');\n",
              "      try {\n",
              "        const charts = await google.colab.kernel.invokeFunction(\n",
              "            'suggestCharts', [key], {});\n",
              "      } catch (error) {\n",
              "        console.error('Error during call to suggestCharts:', error);\n",
              "      }\n",
              "      quickchartButtonEl.classList.remove('colab-df-spinner');\n",
              "      quickchartButtonEl.classList.add('colab-df-quickchart-complete');\n",
              "    }\n",
              "    (() => {\n",
              "      let quickchartButtonEl =\n",
              "        document.querySelector('#df-2b038f32-6a35-4f2d-98a9-962e6e4719e3 button');\n",
              "      quickchartButtonEl.style.display =\n",
              "        google.colab.kernel.accessAllowed ? 'block' : 'none';\n",
              "    })();\n",
              "  </script>\n",
              "</div>\n",
              "    </div>\n",
              "  </div>\n"
            ]
          },
          "metadata": {},
          "execution_count": 2
        }
      ],
      "source": [
        "df = pd.read_csv(\"/content/drive/MyDrive/churn_t.csv\")   # read CSV file\n",
        "df.head()"
      ]
    },
    {
      "cell_type": "code",
      "execution_count": null,
      "metadata": {
        "colab": {
          "base_uri": "https://localhost:8080/"
        },
        "id": "Z9tPqXfeI67o",
        "outputId": "1b2c7f75-28f9-4ef9-feb1-e5323fa490d3"
      },
      "outputs": [
        {
          "output_type": "stream",
          "name": "stdout",
          "text": [
            "<class 'pandas.core.frame.DataFrame'>\n",
            "RangeIndex: 3333 entries, 0 to 3332\n",
            "Data columns (total 11 columns):\n",
            " #   Column           Non-Null Count  Dtype  \n",
            "---  ------           --------------  -----  \n",
            " 0   Churn            3333 non-null   int64  \n",
            " 1   AccountWeeks     3333 non-null   int64  \n",
            " 2   ContractRenewal  3333 non-null   int64  \n",
            " 3   DataPlan         3333 non-null   int64  \n",
            " 4   DataUsage        3333 non-null   float64\n",
            " 5   CustServCalls    3333 non-null   int64  \n",
            " 6   DayMins          3333 non-null   float64\n",
            " 7   DayCalls         3333 non-null   int64  \n",
            " 8   MonthlyCharge    3333 non-null   float64\n",
            " 9   OverageFee       3333 non-null   float64\n",
            " 10  RoamMins         3333 non-null   float64\n",
            "dtypes: float64(5), int64(6)\n",
            "memory usage: 286.6 KB\n"
          ]
        }
      ],
      "source": [
        "df.info()                           # show information of the dataset"
      ]
    },
    {
      "cell_type": "code",
      "execution_count": null,
      "metadata": {
        "colab": {
          "base_uri": "https://localhost:8080/"
        },
        "id": "-saOyJOdKDPL",
        "outputId": "004caad7-0f5a-45cb-cd97-a52a8a0a8717"
      },
      "outputs": [
        {
          "output_type": "execute_result",
          "data": {
            "text/plain": [
              "0    2850\n",
              "1     483\n",
              "Name: Churn, dtype: int64"
            ]
          },
          "metadata": {},
          "execution_count": 4
        }
      ],
      "source": [
        "df['Churn'].value_counts()          # number of samples for both labels"
      ]
    },
    {
      "cell_type": "code",
      "execution_count": null,
      "metadata": {
        "colab": {
          "base_uri": "https://localhost:8080/",
          "height": 466
        },
        "id": "vM5tdn7QKGW-",
        "outputId": "9dc5765f-465e-41cc-e381-2aeea6de719f"
      },
      "outputs": [
        {
          "output_type": "execute_result",
          "data": {
            "text/plain": [
              "<Axes: xlabel='Churn', ylabel='count'>"
            ]
          },
          "metadata": {},
          "execution_count": 5
        },
        {
          "output_type": "display_data",
          "data": {
            "text/plain": [
              "<Figure size 640x480 with 1 Axes>"
            ],
            "image/png": "[encoded data removed]"
          },
          "metadata": {}
        }
      ],
      "source": [
        "import seaborn as sb\n",
        "sb.countplot(x='Churn',data=df)"
      ]
    },
    {
      "cell_type": "code",
      "execution_count": null,
      "metadata": {
        "colab": {
          "base_uri": "https://localhost:8080/"
        },
        "id": "5bVCmGFMKKEI",
        "outputId": "c35b7631-293b-46bb-b503-32480a20c161"
      },
      "outputs": [
        {
          "output_type": "execute_result",
          "data": {
            "text/plain": [
              "Churn              0\n",
              "AccountWeeks       0\n",
              "ContractRenewal    0\n",
              "DataPlan           0\n",
              "DataUsage          0\n",
              "CustServCalls      0\n",
              "DayMins            0\n",
              "DayCalls           0\n",
              "MonthlyCharge      0\n",
              "OverageFee         0\n",
              "RoamMins           0\n",
              "dtype: int64"
            ]
          },
          "metadata": {},
          "execution_count": 6
        }
      ],
      "source": [
        "df.isnull().sum()"
      ]
    },
    {
      "cell_type": "code",
      "execution_count": null,
      "metadata": {
        "id": "x3E_dui0I9Ku"
      },
      "outputs": [],
      "source": [
        "X = df.drop(columns = ['Churn'])                      # assign all features to X and drop 'Churn' variable\n",
        "y = df['Churn'].values\n",
        "X_train, X_test, y_train, y_test = train_test_split(X, y, test_size=0.3)  # split data into training and testing 30% and 70% respectively"
      ]
    },
    {
      "cell_type": "markdown",
      "metadata": {
        "id": "_HHVxoksKWjC"
      },
      "source": [
        "**Model accuracy at Default hyperparameters**"
      ]
    },
    {
      "cell_type": "code",
      "execution_count": null,
      "metadata": {
        "colab": {
          "base_uri": "https://localhost:8080/"
        },
        "id": "Cd7y6aeCI_po",
        "outputId": "5c398386-1234-4d89-9368-517b3bfae43b"
      },
      "outputs": [
        {
          "output_type": "execute_result",
          "data": {
            "text/plain": [
              "0.941"
            ]
          },
          "metadata": {},
          "execution_count": 21
        }
      ],
      "source": [
        "RFC = RandomForestClassifier()               # creation of Random Forest model\n",
        "RFC_churn=RFC.fit(X_train, y_train)\n",
        "RFC_churn.score(X_test,y_test)               #evalution of model on test dataset"
      ]
    },
    {
      "cell_type": "code",
      "execution_count": null,
      "metadata": {
        "colab": {
          "base_uri": "https://localhost:8080/"
        },
        "id": "vYzGWQiHJC7h",
        "outputId": "342694d5-4615-49b1-8d63-bcd13424fe8f"
      },
      "outputs": [
        {
          "output_type": "execute_result",
          "data": {
            "text/plain": [
              "0.852"
            ]
          },
          "metadata": {},
          "execution_count": 22
        }
      ],
      "source": [
        "svm_classi = svm.SVC()                       #creation of SVC model\n",
        "SVC_churn=svm_classi.fit(X_train, y_train)\n",
        "SVC_churn.score(X_test,y_test)               # Evalution of model on test dataset"
      ]
    },
    {
      "cell_type": "code",
      "execution_count": null,
      "metadata": {
        "colab": {
          "base_uri": "https://localhost:8080/"
        },
        "id": "kLtMlJK5KVXz",
        "outputId": "dab874d7-c08a-4540-c726-32e75971fa94"
      },
      "outputs": [
        {
          "output_type": "execute_result",
          "data": {
            "text/plain": [
              "0.867"
            ]
          },
          "metadata": {},
          "execution_count": 24
        }
      ],
      "source": [
        "knn = KNeighborsClassifier()                 # Create model KNN\n",
        "KNN_churn=knn.fit(X_train,y_train)           # train model on the traning dataset\n",
        "KNN_churn.score(X_test,y_test)               #evaluate model on the test dataset"
      ]
    },
    {
      "cell_type": "code",
      "execution_count": null,
      "metadata": {
        "colab": {
          "base_uri": "https://localhost:8080/"
        },
        "id": "Ba1HWmxmL6DZ",
        "outputId": "c382d235-9128-4491-ac0a-3b0e8d8e1bc7"
      },
      "outputs": [
        {
          "output_type": "stream",
          "name": "stdout",
          "text": [
            "Collecting scikit-optimize\n",
            "  Downloading scikit_optimize-0.9.0-py2.py3-none-any.whl (100 kB)\n",
            "\u001b[2K     \u001b[90m━━━━━━━━━━━━━━━━━━━━━━━━━━━━━━━━━━━━━━━\u001b[0m \u001b[32m100.3/100.3 kB\u001b[0m \u001b[31m2.4 MB/s\u001b[0m eta \u001b[36m0:00:00\u001b[0m\n",
            "\u001b[?25hRequirement already satisfied: joblib>=0.11 in /usr/local/lib/python3.10/dist-packages (from scikit-optimize) (1.3.2)\n",
            "Collecting pyaml>=16.9 (from scikit-optimize)\n",
            "  Downloading pyaml-23.9.6-py3-none-any.whl (22 kB)\n",
            "Requirement already satisfied: numpy>=1.13.3 in /usr/local/lib/python3.10/dist-packages (from scikit-optimize) (1.23.5)\n",
            "Requirement already satisfied: scipy>=0.19.1 in /usr/local/lib/python3.10/dist-packages (from scikit-optimize) (1.11.2)\n",
            "Requirement already satisfied: scikit-learn>=0.20.0 in /usr/local/lib/python3.10/dist-packages (from scikit-optimize) (1.2.2)\n",
            "Requirement already satisfied: PyYAML in /usr/local/lib/python3.10/dist-packages (from pyaml>=16.9->scikit-optimize) (6.0.1)\n",
            "Requirement already satisfied: threadpoolctl>=2.0.0 in /usr/local/lib/python3.10/dist-packages (from scikit-learn>=0.20.0->scikit-optimize) (3.2.0)\n",
            "Installing collected packages: pyaml, scikit-optimize\n",
            "Successfully installed pyaml-23.9.6 scikit-optimize-0.9.0\n"
          ]
        }
      ],
      "source": [
        "pip install scikit-optimize"
      ]
    },
    {
      "cell_type": "markdown",
      "metadata": {
        "id": "HwH1bvUdK9Vb"
      },
      "source": [
        "**Bayesian Search for RFC**"
      ]
    },
    {
      "cell_type": "code",
      "execution_count": null,
      "metadata": {
        "colab": {
          "base_uri": "https://localhost:8080/"
        },
        "id": "rsn5dSM7K93C",
        "outputId": "708b459d-7e74-4099-f65f-bfff99760267"
      },
      "outputs": [
        {
          "output_type": "stream",
          "name": "stdout",
          "text": [
            "Test accuracy: 0.94\n",
            "Time taken (in seconds): 757.2147288322449\n"
          ]
        }
      ],
      "source": [
        "from skopt import BayesSearchCV\n",
        "param_space = {\n",
        "    'n_estimators': (50, 500),             # Number of trees in the forest\n",
        "    'max_features': (0.1, 0.9),            # features consider at each split\n",
        "    'min_samples_split': (2, 20),          # Minimum number of samples\n",
        "    'min_samples_leaf': (1, 20),           # Minimum number of samples required to be at a leaf node\n",
        "    'bootstrap': [True, False]             # bootstrap samples used or not used when building trees\n",
        "}\n",
        "start_time=time.time()                     # start timer\n",
        "opt_bay_RFC = BayesSearchCV(RFC_churn, param_space, n_iter=60, cv=5)   #Bayesian Optimization\n",
        "opt_bay_RFC.fit(X_train, y_train)                  # train model on the training dataset\n",
        "end_time = time.time()                     # end timer\n",
        "execution_time = end_time - start_time     # total execution time of algorithm\n",
        "best_params = opt_bay_RFC.best_params_             #best parameter value\n",
        "best_model = opt_bay_RFC.best_estimator_\n",
        "test_accuracy = best_model.score(X_test, y_test)   #testing of model on test dataset\n",
        "print('Test accuracy:', test_accuracy)\n",
        "print('Time taken (in seconds):', execution_time)"
      ]
    },
    {
      "cell_type": "markdown",
      "metadata": {
        "id": "GiBLIXspK-pA"
      },
      "source": [
        "**Bayesian Search for SVC**"
      ]
    },
    {
      "cell_type": "code",
      "execution_count": null,
      "metadata": {
        "colab": {
          "base_uri": "https://localhost:8080/"
        },
        "id": "0pkFfIJbK--h",
        "outputId": "c20cb616-996f-4fdc-9e6d-56c30fad9f56"
      },
      "outputs": [
        {
          "name": "stdout",
          "output_type": "stream",
          "text": [
            "Test accuracy: 0.88\n",
            "Time taken (in seconds): 969.1032738685608\n"
          ]
        }
      ],
      "source": [
        "from skopt import BayesSearchCV\n",
        "param_space = {\n",
        "    'C': (0.1, 1.0, 'log-uniform'),         # Smaller range for C\n",
        "    'kernel': ['linear', 'rbf'],\n",
        "    'gamma': (1e-6, 1e-2, 'log-uniform')    # Smaller range for gamma\n",
        "}\n",
        "start_time = time.time()\n",
        "opt = BayesSearchCV(SVC_churn, param_space, n_iter=10, cv=5, n_jobs=-1)  #Bayesian optimization\n",
        "opt.fit(X_train, y_train)                                                #training of model on train dataset\n",
        "end_time = time.time()\n",
        "execution_time = end_time - start_time      #time taken by the algorithm in execution\n",
        "best_params = opt.best_params_              #best hyperparameters values\n",
        "best_model = opt.best_estimator_\n",
        "test_accuracy = best_model.score(X_test, y_test) #Evaluaiton of the model on the test dataset\n",
        "print('Test accuracy:', test_accuracy)\n",
        "print('Time taken (in seconds):', execution_time)"
      ]
    },
    {
      "cell_type": "markdown",
      "metadata": {
        "id": "56njDBj0Lc7F"
      },
      "source": [
        "**Bayesian Search for KNN**"
      ]
    },
    {
      "cell_type": "code",
      "execution_count": null,
      "metadata": {
        "colab": {
          "base_uri": "https://localhost:8080/"
        },
        "id": "yEuRM_e6K_o-",
        "outputId": "c63aa0d7-22ac-49dc-fd16-89fca5c3f16f"
      },
      "outputs": [
        {
          "name": "stderr",
          "output_type": "stream",
          "text": [
            "/usr/local/lib/python3.10/dist-packages/skopt/optimizer/optimizer.py:449: UserWarning: The objective has been evaluated at this point before.\n",
            "  warnings.warn(\"The objective has been evaluated \"\n",
            "/usr/local/lib/python3.10/dist-packages/skopt/optimizer/optimizer.py:449: UserWarning: The objective has been evaluated at this point before.\n",
            "  warnings.warn(\"The objective has been evaluated \"\n",
            "/usr/local/lib/python3.10/dist-packages/skopt/optimizer/optimizer.py:449: UserWarning: The objective has been evaluated at this point before.\n",
            "  warnings.warn(\"The objective has been evaluated \"\n",
            "/usr/local/lib/python3.10/dist-packages/skopt/optimizer/optimizer.py:449: UserWarning: The objective has been evaluated at this point before.\n",
            "  warnings.warn(\"The objective has been evaluated \"\n",
            "/usr/local/lib/python3.10/dist-packages/skopt/optimizer/optimizer.py:449: UserWarning: The objective has been evaluated at this point before.\n",
            "  warnings.warn(\"The objective has been evaluated \"\n"
          ]
        },
        {
          "name": "stdout",
          "output_type": "stream",
          "text": [
            "Best Hyperparameters: OrderedDict([('n_neighbors', 33), ('p', 1), ('weights', 'distance')])\n",
            "Test accuracy: 0.882\n",
            "Time taken (in seconds): 100.45501685142517\n"
          ]
        }
      ],
      "source": [
        "from skopt import BayesSearchCV\n",
        "param_space = {\n",
        "    'n_neighbors': (1, 35),              # Number of neighbors\n",
        "    'weights': ['uniform', 'distance'],  # Weight function\n",
        "    'p': (1, 2)                          # Power parameter (1 for Manhattan, 2 for Euclidean)\n",
        "}\n",
        "start_time = time.time()                 #start timer\n",
        "opt = BayesSearchCV(KNN_churn, param_space, n_iter=50, cv=5)  #Bayesian Optimiztion\n",
        "opt.fit(X_train, y_train)\n",
        "end_time = time.time()\n",
        "execution_time = end_time - start_time   #execution time of beyesian optimiztion\n",
        "best_params = opt.best_params_\n",
        "best_model = opt.best_estimator_\n",
        "test_accuracy = best_model.score(X_test, y_test)\n",
        "print('Best Hyperparameters:', best_params)\n",
        "print('Test accuracy:', test_accuracy)\n",
        "print('Time taken (in seconds):', execution_time)"
      ]
    },
    {
      "cell_type": "markdown",
      "metadata": {
        "id": "xksot5-QRnYM"
      },
      "source": [
        "**Random search for RFC**"
      ]
    },
    {
      "cell_type": "code",
      "execution_count": null,
      "metadata": {
        "colab": {
          "base_uri": "https://localhost:8080/"
        },
        "id": "3enKM04uRnx_",
        "outputId": "edc9acf0-fc5f-44ad-ce0a-8e0b02705ca7"
      },
      "outputs": [
        {
          "name": "stdout",
          "output_type": "stream",
          "text": [
            "Test accuracy: 0.949\n",
            "Time taken (in seconds): 260.4715721607208\n"
          ]
        }
      ],
      "source": [
        "from sklearn.model_selection import RandomizedSearchCV\n",
        "param_dist = {\n",
        "    'n_estimators': np.arange(100, 1001, 100),          # Number of trees\n",
        "    'max_features': np.arange(0.1, 1.0, 0.1),           # Fraction of features to consider at each split\n",
        "    'min_samples_split': np.arange(2, 21, 2),           # Minimum number of samples\n",
        "    'min_samples_leaf': np.arange(1, 21, 2),            # Minimum number of samples required to be at a leaf node\n",
        "    'bootstrap': [True, False]                          # Whether bootstrap samples used or not used\n",
        "}\n",
        "start_time=time.time()\n",
        "random_search = RandomizedSearchCV(RFC_churn, param_distributions=param_dist, n_iter=25, cv=5, n_jobs=-1)\n",
        "random_search.fit(X_train, y_train)\n",
        "end_time = time.time()\n",
        "execution_time = end_time - start_time\n",
        "best_params = random_search.best_params_\n",
        "best_model = random_search.best_estimator_\n",
        "test_accuracy = best_model.score(X_test, y_test)        # Evaluate the best model on the test data\n",
        "print('Test accuracy:', test_accuracy)\n",
        "print('Time taken (in seconds):', execution_time)"
      ]
    },
    {
      "cell_type": "markdown",
      "metadata": {
        "id": "VaBPpcOgRoSD"
      },
      "source": [
        "**Random search for SVC**"
      ]
    },
    {
      "cell_type": "code",
      "execution_count": null,
      "metadata": {
        "colab": {
          "base_uri": "https://localhost:8080/"
        },
        "id": "EXVYPCAmRomc",
        "outputId": "21bcbe76-ffea-4f4e-ae1e-a4bd45c45e0b"
      },
      "outputs": [
        {
          "name": "stdout",
          "output_type": "stream",
          "text": [
            "Test accuracy: 0.877\n",
            "Time taken (in seconds): 1347.0649192333221\n"
          ]
        }
      ],
      "source": [
        "from sklearn.model_selection import RandomizedSearchCV\n",
        "from scipy.stats import uniform, randint\n",
        "param_dist = {\n",
        "    'C': uniform(0.1, 2.0),                       # range of C\n",
        "    'kernel': ['linear', 'rbf'],\n",
        "    'gamma': uniform(0.001, 0.01)\n",
        "}\n",
        "start_time = time.time()\n",
        "random_search = RandomizedSearchCV(SVC_churn, param_distributions=param_dist, n_iter=10, cv=5) #Random Search\n",
        "random_search.fit(X_train, y_train)               #training\n",
        "end_time = time.time()\n",
        "execution_time = end_time - start_time\n",
        "best_params = random_search.best_params_          #best hyperparameter value\n",
        "best_model = random_search.best_estimator_\n",
        "test_accuracy = best_model.score(X_test, y_test)  # Evaluate the best model on the test data\n",
        "print('Test accuracy:', test_accuracy)\n",
        "print('Time taken (in seconds):', execution_time)"
      ]
    },
    {
      "cell_type": "markdown",
      "metadata": {
        "id": "o_JcNwwERpLk"
      },
      "source": [
        "**Random search for KNN**"
      ]
    },
    {
      "cell_type": "code",
      "execution_count": null,
      "metadata": {
        "colab": {
          "base_uri": "https://localhost:8080/"
        },
        "id": "ePep8WkfRpuz",
        "outputId": "973cc275-e5c1-4a77-baaa-85ca0ff60dbc"
      },
      "outputs": [
        {
          "name": "stdout",
          "output_type": "stream",
          "text": [
            "Test accuracy: 0.882\n",
            "Time taken (in seconds): 15.461910486221313\n"
          ]
        }
      ],
      "source": [
        "from sklearn.model_selection import RandomizedSearchCV\n",
        "from scipy.stats import randint, uniform  # For defining hyperparameter ranges\n",
        "param_dist = {\n",
        "    'n_neighbors': randint(1,50 ),         # Number of neighbors to consider\n",
        "    'weights': ['uniform', 'distance'],    # Weight function\n",
        "    'p': [1, 2]                            # Power parameter\n",
        "}\n",
        "start_time = time.time()\n",
        "random_search = RandomizedSearchCV(KNN_churn, param_distributions=param_dist, n_iter=50, cv=20) #creation of randmo search alogirthm\n",
        "random_search.fit(X_train, y_train)        #trainin on training dataset\n",
        "end_time = time.time()\n",
        "execution_time = end_time - start_time     #execution time of RS algorithm\n",
        "best_params = random_search.best_params_   #best hyperparameter values\n",
        "best_model = random_search.best_estimator_\n",
        "test_accuracy = best_model.score(X_test, y_test) #evaluation of model on test set\n",
        "print('Test accuracy:', test_accuracy)\n",
        "print('Time taken (in seconds):', execution_time)"
      ]
    },
    {
      "cell_type": "markdown",
      "metadata": {
        "id": "Q5A9PvCKUD-t"
      },
      "source": [
        "**Grid Search for RFC**"
      ]
    },
    {
      "cell_type": "code",
      "execution_count": null,
      "metadata": {
        "colab": {
          "base_uri": "https://localhost:8080/"
        },
        "id": "mxmfyv1QUEet",
        "outputId": "312818a9-a214-4fea-edfb-a73159352b3c"
      },
      "outputs": [
        {
          "name": "stdout",
          "output_type": "stream",
          "text": [
            "Test accuracy: 0.949\n",
            "Time taken (in seconds): 904.2938778400421\n"
          ]
        }
      ],
      "source": [
        "from sklearn.model_selection import GridSearchCV\n",
        "param_dist = {\n",
        "    'n_estimators': [100, 200, 400],                    # Number of trees in the forest\n",
        "    'max_features': np.arange(0.1, 0.5, 0.1),           # Fraction of features to consider at each split\n",
        "    'min_samples_split': [2, 5, 10],                    # Minimum number of samples required to split an internal node\n",
        "    'min_samples_leaf': [1, 5, 10],                     # Minimum number of samples required to be at a leaf node\n",
        "    'bootstrap': [True, False]                          # bootstrap samples are used or not used\n",
        "}\n",
        "start_time = time.time()\n",
        "grid_search = GridSearchCV(RFC_churn, param_dist, cv=5, n_jobs=-1)            #Grid search\n",
        "grid_search.fit(X_train, y_train)                       #training of grid search\n",
        "end_time = time.time()\n",
        "execution_time = end_time - start_time                  #total execution time of Grid search\n",
        "best_params = grid_search.best_params_                  #best hyperparameters value\n",
        "best_model = grid_search.best_estimator_\n",
        "test_accuracy = best_model.score(X_test, y_test)        #evalution on test dataset\n",
        "print('Test accuracy:', test_accuracy)\n",
        "print('Time taken (in seconds):', execution_time)"
      ]
    },
    {
      "cell_type": "markdown",
      "metadata": {
        "id": "DrwWt177UFD9"
      },
      "source": [
        "**Grid Search for SVC**"
      ]
    },
    {
      "cell_type": "code",
      "execution_count": null,
      "metadata": {
        "colab": {
          "base_uri": "https://localhost:8080/"
        },
        "id": "bIqPLwDIUFWr",
        "outputId": "0ec7aa9e-c0ab-4266-a873-843606b125ca"
      },
      "outputs": [
        {
          "name": "stdout",
          "output_type": "stream",
          "text": [
            "Test accuracy: 0.881\n",
            "Time taken (in seconds): 3631.5851790905\n"
          ]
        }
      ],
      "source": [
        "from sklearn.model_selection import GridSearchCV\n",
        "param_grid = {\n",
        "    'C': [0.1, 1.0, 10.0],\n",
        "    'kernel': ['linear', 'rbf'],\n",
        "    'gamma': [0.001, 0.01, 0.1, 'scale', 'auto']\n",
        "}\n",
        "start_time = time.time()\n",
        "grid_search = GridSearchCV(SVC_churn, param_grid, cv=5)        #Grid search\n",
        "grid_search.fit(X_train, y_train)                              #training of model\n",
        "end_time = time.time()\n",
        "execution_time = end_time - start_time\n",
        "best_params = grid_search.best_params_\n",
        "best_model = grid_search.best_estimator_\n",
        "test_accuracy = best_model.score(X_test, y_test)\n",
        "print('Test accuracy:', test_accuracy)\n",
        "print('Time taken (in seconds):', execution_time)"
      ]
    },
    {
      "cell_type": "markdown",
      "metadata": {
        "id": "a7pdcL8XUGDv"
      },
      "source": [
        "**Grid Search for KNN**"
      ]
    },
    {
      "cell_type": "code",
      "execution_count": null,
      "metadata": {
        "colab": {
          "base_uri": "https://localhost:8080/"
        },
        "id": "OCyUjaA2UGWu",
        "outputId": "bf674a1c-5a60-4dad-ba8d-b534a1ebfdac"
      },
      "outputs": [
        {
          "name": "stdout",
          "output_type": "stream",
          "text": [
            "Test accuracy: 0.883\n",
            "Time taken (in seconds): 31.06301212310791\n"
          ]
        }
      ],
      "source": [
        "from sklearn.model_selection import GridSearchCV\n",
        "\n",
        "param_grid = {\n",
        "    'n_neighbors': range(1, 50),         #Number of neighbors\n",
        "    'weights': ['uniform', 'distance'],  # Weight function\n",
        "    'p': [1, 2]                          # Power parameter\n",
        "}\n",
        "start_time = time.time()\n",
        "grid_search = GridSearchCV(KNN_churn, param_grid, cv=5)  #grid search\n",
        "grid_search.fit(X_train, y_train)        #training of model\n",
        "end_time = time.time()\n",
        "execution_time = end_time - start_time\n",
        "best_params = grid_search.best_params_\n",
        "best_model = grid_search.best_estimator_\n",
        "test_accuracy = best_model.score(X_test, y_test)\n",
        "print('Test accuracy:', test_accuracy)\n",
        "print('Time taken (in seconds):', execution_time)"
      ]
    },
    {
      "cell_type": "code",
      "source": [
        "import matplotlib.pyplot as plt\n",
        "import seaborn as sns\n",
        "from sklearn.metrics import confusion_matrix, classification_report\n",
        "\n",
        "# 1. Make predictions on the test data\n",
        "y_pred = RFC.predict(X_test)\n",
        "\n",
        "# 2. Create a confusion matrix\n",
        "cm = confusion_matrix(y_test, y_pred)\n",
        "\n",
        "# 3. Visualize the confusion matrix using a heatmap\n",
        "plt.figure(figsize=(8, 6))\n",
        "sns.heatmap(cm, annot=True, fmt='d', cmap='Blues')\n",
        "plt.xlabel('Predicted Labels')\n",
        "plt.ylabel('True Labels')\n",
        "plt.title('Confusion Matrix')\n",
        "plt.show()\n",
        "# 4. Show the classification report\n",
        "print(classification_report(y_test, y_pred))"
      ],
      "metadata": {
        "colab": {
          "base_uri": "https://localhost:8080/",
          "height": 720
        },
        "id": "MQEIcwqsr8QS",
        "outputId": "5b925fa1-0728-4ec9-aff1-01de14225ffb"
      },
      "execution_count": null,
      "outputs": [
        {
          "output_type": "display_data",
          "data": {
            "text/plain": [
              "<Figure size 800x600 with 2 Axes>"
            ],
            "image/png": "[encoded data removed]"
          },
          "metadata": {}
        },
        {
          "output_type": "stream",
          "name": "stdout",
          "text": [
            "              precision    recall  f1-score   support\n",
            "\n",
            "           0       0.95      0.99      0.97       851\n",
            "           1       0.90      0.68      0.77       149\n",
            "\n",
            "    accuracy                           0.94      1000\n",
            "   macro avg       0.92      0.83      0.87      1000\n",
            "weighted avg       0.94      0.94      0.94      1000\n",
            "\n"
          ]
        }
      ]
    }
  ],
  "metadata": {
    "colab": {
      "provenance": [],
      "mount_file_id": "1mEwP_TiNPyUnDwXbEHK_8KALK22vcOHC",
      "authorship_tag": "ABX9TyMZFg67z2l3al06lxmI14TO",
      "include_colab_link": true
    },
    "kernelspec": {
      "display_name": "Python 3",
      "name": "python3"
    },
    "language_info": {
      "name": "python"
    }
  },
  "nbformat": 4,
  "nbformat_minor": 0
}