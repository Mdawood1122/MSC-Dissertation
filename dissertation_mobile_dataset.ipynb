{
  "cells": [
    {
      "cell_type": "markdown",
      "metadata": {
        "id": "view-in-github",
        "colab_type": "text"
      },
      "source": [
        "<a href=\"https://colab.research.google.com/github/Mdawood1122/MSC-Dissertation/blob/main/dissertation_mobile_dataset.ipynb\" target=\"_parent\"><img src=\"https://colab.research.google.com/assets/colab-badge.svg\" alt=\"Open In Colab\"/></a>"
      ]
    },
    {
      "cell_type": "code",
      "execution_count": null,
      "metadata": {
        "id": "nQU9ycGZ5Q0b"
      },
      "outputs": [],
      "source": [
        "import pandas as pd\n",
        "import seaborn as sns\n",
        "import matplotlib.pyplot as plt\n",
        "from scipy import stats\n",
        "import numpy as np\n",
        "from sklearn import svm\n",
        "from sklearn.metrics import accuracy_score\n",
        "from sklearn.ensemble import RandomForestClassifier\n",
        "from sklearn.neighbors import KNeighborsClassifier\n",
        "from sklearn.metrics import mean_absolute_error\n",
        "from sklearn.model_selection import train_test_split\n",
        "from sklearn.tree import export_graphviz\n",
        "from sklearn.tree import DecisionTreeRegressor\n",
        "from sklearn.metrics import mean_squared_error\n",
        "from sklearn.metrics import r2_score\n",
        "from sklearn.tree import plot_tree\n",
        "import time"
      ]
    },
    {
      "cell_type": "code",
      "execution_count": null,
      "metadata": {
        "id": "Xn-ZvvlI5ci5"
      },
      "outputs": [],
      "source": [
        "df_train = pd.read_csv(\"/content/drive/MyDrive/mobile_price/train/train.csv\")   # load training data file\n",
        "\n",
        "\n",
        "X=df_train.drop('price_range',axis=1)                   #remove dependent variable \"Price_range\" and move all indepentdent variable to variable X\n",
        "y=df_train['price_range']                               # assign the value of dependent variable to y\n",
        "X_train, X_test, y_train, y_test = train_test_split(X, y, test_size=0.3, random_state=40)  # split data into 30% for testing and remaining 70% for training\n"
      ]
    },
    {
      "cell_type": "markdown",
      "metadata": {
        "id": "tniYMbC66wtT"
      },
      "source": [
        "**Models at default hyperparameters value**"
      ]
    },
    {
      "cell_type": "code",
      "execution_count": null,
      "metadata": {
        "colab": {
          "base_uri": "https://localhost:8080/"
        },
        "id": "gFu41fsB5g6G",
        "outputId": "786ee5f5-737c-420c-f03f-62a99fbb6e4d"
      },
      "outputs": [
        {
          "output_type": "execute_result",
          "data": {
            "text/plain": [
              "0.8733333333333333"
            ]
          },
          "metadata": {},
          "execution_count": 3
        }
      ],
      "source": [
        "RFC = RandomForestClassifier()                # creation of Random forest classifier\n",
        "RFC_mobile=RFC.fit(X_train, y_train)          # training of the model\n",
        "RFC_mobile.score(X_test,y_test)               # Evaluation of model"
      ]
    },
    {
      "cell_type": "code",
      "execution_count": null,
      "metadata": {
        "colab": {
          "base_uri": "https://localhost:8080/"
        },
        "id": "8iCGcp4M63W_",
        "outputId": "e42abf3d-87fd-4f37-ab53-32fc6b5ffaac"
      },
      "outputs": [
        {
          "output_type": "execute_result",
          "data": {
            "text/plain": [
              "0.945"
            ]
          },
          "metadata": {},
          "execution_count": 4
        }
      ],
      "source": [
        "svm_classi = svm.SVC()                           # create SVC\n",
        "SVC_mobile=svm_classi.fit(X_train, y_train)      # training model with training dataset\n",
        "SVC_mobile.score(X_test,y_test)                  #evaluation"
      ]
    },
    {
      "cell_type": "code",
      "execution_count": null,
      "metadata": {
        "colab": {
          "base_uri": "https://localhost:8080/"
        },
        "id": "gyt34Gl47Xej",
        "outputId": "1e6dfcae-cbfb-47d5-d154-2ca7c6f9627f"
      },
      "outputs": [
        {
          "output_type": "execute_result",
          "data": {
            "text/plain": [
              "0.9383333333333334"
            ]
          },
          "metadata": {},
          "execution_count": 5
        }
      ],
      "source": [
        "knn = KNeighborsClassifier()                # creationof KNN\n",
        "KNN_mobile=knn.fit(X_train,y_train)\n",
        "KNN_mobile.score(X_test,y_test)"
      ]
    },
    {
      "cell_type": "markdown",
      "metadata": {
        "id": "OExgzAT29t6B"
      },
      "source": [
        "**Hyperparameter Tunning of RFC **"
      ]
    },
    {
      "cell_type": "code",
      "execution_count": null,
      "metadata": {
        "colab": {
          "base_uri": "https://localhost:8080/"
        },
        "id": "DRd1bIIM9tGd",
        "outputId": "fd0fb313-877a-4645-ea3d-b335951b3a82"
      },
      "outputs": [
        {
          "output_type": "stream",
          "name": "stdout",
          "text": [
            "Collecting scikit-optimize\n",
            "  Downloading scikit_optimize-0.9.0-py2.py3-none-any.whl (100 kB)\n",
            "\u001b[?25l     \u001b[90m━━━━━━━━━━━━━━━━━━━━━━━━━━━━━━━━━━━━━━━━\u001b[0m \u001b[32m0.0/100.3 kB\u001b[0m \u001b[31m?\u001b[0m eta \u001b[36m-:--:--\u001b[0m\r\u001b[2K     \u001b[91m━━━━━━━━━━━━━━━━━━━━━━━━━━━━━━━━\u001b[0m\u001b[91m╸\u001b[0m\u001b[90m━━━━━━━\u001b[0m \u001b[32m81.9/100.3 kB\u001b[0m \u001b[31m2.4 MB/s\u001b[0m eta \u001b[36m0:00:01\u001b[0m\r\u001b[2K     \u001b[90m━━━━━━━━━━━━━━━━━━━━━━━━━━━━━━━━━━━━━━━\u001b[0m \u001b[32m100.3/100.3 kB\u001b[0m \u001b[31m2.1 MB/s\u001b[0m eta \u001b[36m0:00:00\u001b[0m\n",
            "\u001b[?25hRequirement already satisfied: joblib>=0.11 in /usr/local/lib/python3.10/dist-packages (from scikit-optimize) (1.3.2)\n",
            "Collecting pyaml>=16.9 (from scikit-optimize)\n",
            "  Downloading pyaml-23.9.6-py3-none-any.whl (22 kB)\n",
            "Requirement already satisfied: numpy>=1.13.3 in /usr/local/lib/python3.10/dist-packages (from scikit-optimize) (1.23.5)\n",
            "Requirement already satisfied: scipy>=0.19.1 in /usr/local/lib/python3.10/dist-packages (from scikit-optimize) (1.11.2)\n",
            "Requirement already satisfied: scikit-learn>=0.20.0 in /usr/local/lib/python3.10/dist-packages (from scikit-optimize) (1.2.2)\n",
            "Requirement already satisfied: PyYAML in /usr/local/lib/python3.10/dist-packages (from pyaml>=16.9->scikit-optimize) (6.0.1)\n",
            "Requirement already satisfied: threadpoolctl>=2.0.0 in /usr/local/lib/python3.10/dist-packages (from scikit-learn>=0.20.0->scikit-optimize) (3.2.0)\n",
            "Installing collected packages: pyaml, scikit-optimize\n",
            "Successfully installed pyaml-23.9.6 scikit-optimize-0.9.0\n"
          ]
        }
      ],
      "source": [
        "pip install scikit-optimize"
      ]
    },
    {
      "cell_type": "markdown",
      "metadata": {
        "id": "mv_1k19m-T6m"
      },
      "source": [
        "**Bayesian Search for RFC**"
      ]
    },
    {
      "cell_type": "code",
      "execution_count": null,
      "metadata": {
        "colab": {
          "base_uri": "https://localhost:8080/"
        },
        "id": "uGACvMUJ9s9_",
        "outputId": "a7d9d755-7ffb-4924-e253-067ff952a46d"
      },
      "outputs": [
        {
          "output_type": "stream",
          "name": "stdout",
          "text": [
            "Test accuracy: 0.9033333333333333\n",
            "Time taken (in seconds): 1337.8981323242188\n"
          ]
        }
      ],
      "source": [
        "from skopt import BayesSearchCV\n",
        "\n",
        "param_space = {\n",
        "    'n_estimators': (50, 500),             # Number of trees\n",
        "    'max_features': (0.1, 0.9),            # Number of features considered at each split\n",
        "    'min_samples_split': (2, 20),          # Minimum number of samples\n",
        "    'min_samples_leaf': (1, 20),           # Minimum number of samples required to be at a leaf node\n",
        "    'bootstrap': [True, False]             # Whether bootstrap samples are used when building trees\n",
        "}\n",
        "start_time=time.time()                     #start timer before the execution of optimization process\n",
        "\n",
        "opt = BayesSearchCV(RFC_mobile, param_space, n_iter=100, cv=5)  # create bayesian optimization alogirthm\n",
        "opt.fit(X_train, y_train)\n",
        "end_time = time.time()                     #end timer\n",
        "\n",
        "execution_time = end_time - start_time     # Calculate the time taken\n",
        "best_params = opt.best_params_            #best parameters found\n",
        "best_model = opt.best_estimator_          # model's result at best parameters found\n",
        "\n",
        "# Evaluate the best model on the test data\n",
        "test_accuracy = best_model.score(X_test, y_test)\n",
        "print('Test accuracy:', test_accuracy)\n",
        "print('Time taken (in seconds):', execution_time)"
      ]
    },
    {
      "cell_type": "markdown",
      "metadata": {
        "id": "moZzMX64AOnE"
      },
      "source": [
        "**Bayesian Search for SVC**"
      ]
    },
    {
      "cell_type": "code",
      "execution_count": null,
      "metadata": {
        "id": "GBsN9VWp9sYb",
        "colab": {
          "base_uri": "https://localhost:8080/"
        },
        "outputId": "020f8fb5-9812-4f0a-96ad-89572af12e73"
      },
      "outputs": [
        {
          "output_type": "stream",
          "name": "stdout",
          "text": [
            "Test accuracy: 0.9583333333333334\n",
            "Time taken (in seconds): 1743.217700958252\n"
          ]
        }
      ],
      "source": [
        "from skopt import BayesSearchCV\n",
        "param_space = {\n",
        "    'C': (0.1, 10.0, 'log-uniform'),\n",
        "    'kernel': ['linear', 'rbf'],\n",
        "    'gamma': (1e-5, 1e+1, 'log-uniform')\n",
        "}\n",
        "\n",
        "\n",
        "start_time = time.time()                    # Start timer\n",
        "opt = BayesSearchCV(SVC_mobile, param_space, n_iter=100, cv=5)    # Perform Bayesian Optimization\n",
        "opt.fit(X_train, y_train)                   # train model on training dataset\n",
        "end_time = time.time()                      #end timer\n",
        "execution_time = end_time - start_time      # total execution time\n",
        "best_params = opt.best_params_              #optimal hyperparameters\n",
        "best_model = opt.best_estimator_\n",
        "test_accuracy = best_model.score(X_test, y_test)  # Evaluate the model on the test data\n",
        "print('Test accuracy:', test_accuracy)            # Find Accuracy of the model on the test dataset\n",
        "print('Time taken (in seconds):', execution_time)"
      ]
    },
    {
      "cell_type": "markdown",
      "metadata": {
        "id": "oXZcgOfjATSu"
      },
      "source": [
        "**Bayesian Search for KNN**"
      ]
    },
    {
      "cell_type": "code",
      "execution_count": null,
      "metadata": {
        "id": "GFydqWkLAT1a",
        "colab": {
          "base_uri": "https://localhost:8080/"
        },
        "outputId": "286fb363-08ac-4fdf-98e3-a30bef910308"
      },
      "outputs": [
        {
          "output_type": "stream",
          "name": "stderr",
          "text": [
            "/usr/local/lib/python3.10/dist-packages/skopt/optimizer/optimizer.py:449: UserWarning: The objective has been evaluated at this point before.\n",
            "  warnings.warn(\"The objective has been evaluated \"\n",
            "/usr/local/lib/python3.10/dist-packages/skopt/optimizer/optimizer.py:449: UserWarning: The objective has been evaluated at this point before.\n",
            "  warnings.warn(\"The objective has been evaluated \"\n",
            "/usr/local/lib/python3.10/dist-packages/skopt/optimizer/optimizer.py:449: UserWarning: The objective has been evaluated at this point before.\n",
            "  warnings.warn(\"The objective has been evaluated \"\n",
            "/usr/local/lib/python3.10/dist-packages/skopt/optimizer/optimizer.py:449: UserWarning: The objective has been evaluated at this point before.\n",
            "  warnings.warn(\"The objective has been evaluated \"\n",
            "/usr/local/lib/python3.10/dist-packages/skopt/optimizer/optimizer.py:449: UserWarning: The objective has been evaluated at this point before.\n",
            "  warnings.warn(\"The objective has been evaluated \"\n",
            "/usr/local/lib/python3.10/dist-packages/skopt/optimizer/optimizer.py:449: UserWarning: The objective has been evaluated at this point before.\n",
            "  warnings.warn(\"The objective has been evaluated \"\n",
            "/usr/local/lib/python3.10/dist-packages/skopt/optimizer/optimizer.py:449: UserWarning: The objective has been evaluated at this point before.\n",
            "  warnings.warn(\"The objective has been evaluated \"\n",
            "/usr/local/lib/python3.10/dist-packages/skopt/optimizer/optimizer.py:449: UserWarning: The objective has been evaluated at this point before.\n",
            "  warnings.warn(\"The objective has been evaluated \"\n",
            "/usr/local/lib/python3.10/dist-packages/skopt/optimizer/optimizer.py:449: UserWarning: The objective has been evaluated at this point before.\n",
            "  warnings.warn(\"The objective has been evaluated \"\n",
            "/usr/local/lib/python3.10/dist-packages/skopt/optimizer/optimizer.py:449: UserWarning: The objective has been evaluated at this point before.\n",
            "  warnings.warn(\"The objective has been evaluated \"\n",
            "/usr/local/lib/python3.10/dist-packages/skopt/optimizer/optimizer.py:449: UserWarning: The objective has been evaluated at this point before.\n",
            "  warnings.warn(\"The objective has been evaluated \"\n",
            "/usr/local/lib/python3.10/dist-packages/skopt/optimizer/optimizer.py:449: UserWarning: The objective has been evaluated at this point before.\n",
            "  warnings.warn(\"The objective has been evaluated \"\n",
            "/usr/local/lib/python3.10/dist-packages/skopt/optimizer/optimizer.py:449: UserWarning: The objective has been evaluated at this point before.\n",
            "  warnings.warn(\"The objective has been evaluated \"\n",
            "/usr/local/lib/python3.10/dist-packages/skopt/optimizer/optimizer.py:449: UserWarning: The objective has been evaluated at this point before.\n",
            "  warnings.warn(\"The objective has been evaluated \"\n",
            "/usr/local/lib/python3.10/dist-packages/skopt/optimizer/optimizer.py:449: UserWarning: The objective has been evaluated at this point before.\n",
            "  warnings.warn(\"The objective has been evaluated \"\n",
            "/usr/local/lib/python3.10/dist-packages/skopt/optimizer/optimizer.py:449: UserWarning: The objective has been evaluated at this point before.\n",
            "  warnings.warn(\"The objective has been evaluated \"\n",
            "/usr/local/lib/python3.10/dist-packages/skopt/optimizer/optimizer.py:449: UserWarning: The objective has been evaluated at this point before.\n",
            "  warnings.warn(\"The objective has been evaluated \"\n",
            "/usr/local/lib/python3.10/dist-packages/skopt/optimizer/optimizer.py:449: UserWarning: The objective has been evaluated at this point before.\n",
            "  warnings.warn(\"The objective has been evaluated \"\n",
            "/usr/local/lib/python3.10/dist-packages/skopt/optimizer/optimizer.py:449: UserWarning: The objective has been evaluated at this point before.\n",
            "  warnings.warn(\"The objective has been evaluated \"\n",
            "/usr/local/lib/python3.10/dist-packages/skopt/optimizer/optimizer.py:449: UserWarning: The objective has been evaluated at this point before.\n",
            "  warnings.warn(\"The objective has been evaluated \"\n",
            "/usr/local/lib/python3.10/dist-packages/skopt/optimizer/optimizer.py:449: UserWarning: The objective has been evaluated at this point before.\n",
            "  warnings.warn(\"The objective has been evaluated \"\n",
            "/usr/local/lib/python3.10/dist-packages/skopt/optimizer/optimizer.py:449: UserWarning: The objective has been evaluated at this point before.\n",
            "  warnings.warn(\"The objective has been evaluated \"\n",
            "/usr/local/lib/python3.10/dist-packages/skopt/optimizer/optimizer.py:449: UserWarning: The objective has been evaluated at this point before.\n",
            "  warnings.warn(\"The objective has been evaluated \"\n",
            "/usr/local/lib/python3.10/dist-packages/skopt/optimizer/optimizer.py:449: UserWarning: The objective has been evaluated at this point before.\n",
            "  warnings.warn(\"The objective has been evaluated \"\n",
            "/usr/local/lib/python3.10/dist-packages/skopt/optimizer/optimizer.py:449: UserWarning: The objective has been evaluated at this point before.\n",
            "  warnings.warn(\"The objective has been evaluated \"\n",
            "/usr/local/lib/python3.10/dist-packages/skopt/optimizer/optimizer.py:449: UserWarning: The objective has been evaluated at this point before.\n",
            "  warnings.warn(\"The objective has been evaluated \"\n",
            "/usr/local/lib/python3.10/dist-packages/skopt/optimizer/optimizer.py:449: UserWarning: The objective has been evaluated at this point before.\n",
            "  warnings.warn(\"The objective has been evaluated \"\n",
            "/usr/local/lib/python3.10/dist-packages/skopt/optimizer/optimizer.py:449: UserWarning: The objective has been evaluated at this point before.\n",
            "  warnings.warn(\"The objective has been evaluated \"\n",
            "/usr/local/lib/python3.10/dist-packages/skopt/optimizer/optimizer.py:449: UserWarning: The objective has been evaluated at this point before.\n",
            "  warnings.warn(\"The objective has been evaluated \"\n",
            "/usr/local/lib/python3.10/dist-packages/skopt/optimizer/optimizer.py:449: UserWarning: The objective has been evaluated at this point before.\n",
            "  warnings.warn(\"The objective has been evaluated \"\n",
            "/usr/local/lib/python3.10/dist-packages/skopt/optimizer/optimizer.py:449: UserWarning: The objective has been evaluated at this point before.\n",
            "  warnings.warn(\"The objective has been evaluated \"\n",
            "/usr/local/lib/python3.10/dist-packages/skopt/optimizer/optimizer.py:449: UserWarning: The objective has been evaluated at this point before.\n",
            "  warnings.warn(\"The objective has been evaluated \"\n"
          ]
        },
        {
          "output_type": "stream",
          "name": "stdout",
          "text": [
            "Test accuracy: 0.9366666666666666\n",
            "Time taken (in seconds): 295.12186193466187\n"
          ]
        }
      ],
      "source": [
        "from skopt import BayesSearchCV\n",
        "param_space = {\n",
        "    'n_neighbors': (1, 35),                      # define Number of neighbors\n",
        "    'weights': ['uniform', 'distance'],          # Weight function\n",
        "    'p': (1, 2)                                  # Power parameters (1 for Manhattan, 2 for Euclidean)\n",
        "}\n",
        "start_time = time.time()                         # Start of timer\n",
        "\n",
        "opt = BayesSearchCV(KNN_mobile, param_space, n_iter=100, cv=5)  #Bayesian Optimization\n",
        "opt.fit(X_train, y_train)\n",
        "end_time = time.time()                           #end of timer\n",
        "execution_time = end_time - start_time           #total execution time\n",
        "best_params = opt.best_params_                   #optimal parameters\n",
        "best_model = opt.best_estimator_                 # result of model on optimal parameters\n",
        "test_accuracy = best_model.score(X_test, y_test) # Evaluate of model on the test data\n",
        "print('Test accuracy:', test_accuracy)\n",
        "print('Time taken (in seconds):', execution_time)"
      ]
    },
    {
      "cell_type": "markdown",
      "metadata": {
        "id": "an6y8KjVCd7R"
      },
      "source": [
        "**Random search for RFC**"
      ]
    },
    {
      "cell_type": "code",
      "execution_count": null,
      "metadata": {
        "colab": {
          "base_uri": "https://localhost:8080/"
        },
        "id": "SX60wMcTCeHk",
        "outputId": "316f2768-70db-45db-d667-3bd0c3bab221"
      },
      "outputs": [
        {
          "output_type": "stream",
          "name": "stdout",
          "text": [
            "Test accuracy: 0.8983333333333333\n",
            "Time taken (in seconds): 907.8515632152557\n"
          ]
        }
      ],
      "source": [
        "from sklearn.model_selection import RandomizedSearchCV\n",
        "param_dist = {\n",
        "    'n_estimators': np.arange(100, 1001, 100),          # Number of trees\n",
        "    'max_features': np.arange(0.1, 1.0, 0.1),           # number of features to consider at each split\n",
        "    'min_samples_split': np.arange(2, 21, 2),           # Minimum number of samples\n",
        "    'min_samples_leaf': np.arange(1, 21, 2),            # Minimum number of samples required to be at a leaf node\n",
        "    'bootstrap': [True, False]                          # bootstrap samples are used or not used when building trees\n",
        "}\n",
        "start_time=time.time()\n",
        "random_search = RandomizedSearchCV(RFC_mobile, param_distributions=param_dist, n_iter=100, cv=5, n_jobs=-1) # Perform Randomized Search with specified iterations\n",
        "random_search.fit(X_train, y_train)\n",
        "end_time = time.time()\n",
        "execution_time = end_time - start_time                  # estimation of execution time\n",
        "best_params = random_search.best_params_\n",
        "best_model = random_search.best_estimator_\n",
        "test_accuracy = best_model.score(X_test, y_test)\n",
        "print('Test accuracy:', test_accuracy)\n",
        "print('Time taken (in seconds):', execution_time)"
      ]
    },
    {
      "cell_type": "markdown",
      "metadata": {
        "id": "tp07w33xCfnC"
      },
      "source": [
        "**Random search for SVC**"
      ]
    },
    {
      "cell_type": "code",
      "execution_count": null,
      "metadata": {
        "colab": {
          "base_uri": "https://localhost:8080/"
        },
        "id": "g58i4I_JCgEN",
        "outputId": "ff9cd8b0-c4a6-47ac-fc8e-a0fceb900f51"
      },
      "outputs": [
        {
          "output_type": "stream",
          "name": "stdout",
          "text": [
            "Test accuracy: 0.9583333333333334\n",
            "Time taken (in seconds): 1650.9709198474884\n"
          ]
        }
      ],
      "source": [
        "from sklearn.model_selection import RandomizedSearchCV\n",
        "from scipy.stats import uniform, randint\n",
        "param_dist = {\n",
        "    'C': uniform(0.1, 10),                     # uniform distribution for C\n",
        "    'kernel': ['linear', 'rbf'],               # list of kernal choice\n",
        "    'gamma': uniform(0.001, 0.1)               # uniform distribution fof gamma\n",
        "}\n",
        "start_time = time.time()                       #starting of timer\n",
        "random_search_SVC = RandomizedSearchCV(SVC_mobile, param_distributions=param_dist, n_iter=100, cv=5)\n",
        "random_search_SVC.fit(X_train, y_train)            # training selected optimized algorithm\n",
        "end_time = time.time()\n",
        "execution_time = end_time - start_time         #execution time of optimized algorithm\n",
        "best_params = random_search_SVC.best_params_\n",
        "best_model = random_search_SVC.best_estimator_\n",
        "test_accuracy = best_model.score(X_test, y_test)\n",
        "print('Test accuracy:', test_accuracy)\n",
        "print('Time taken (in seconds):', execution_time)"
      ]
    },
    {
      "cell_type": "markdown",
      "metadata": {
        "id": "Pr7ji_WqCg0r"
      },
      "source": [
        "**Random search for KNN**"
      ]
    },
    {
      "cell_type": "code",
      "execution_count": null,
      "metadata": {
        "colab": {
          "base_uri": "https://localhost:8080/"
        },
        "id": "DM4E7P04ChLj",
        "outputId": "de7f43b0-8422-400f-c819-9778d41a5c55"
      },
      "outputs": [
        {
          "output_type": "stream",
          "name": "stdout",
          "text": [
            "Test accuracy: 0.9366666666666666\n",
            "Time taken (in seconds): 33.45869278907776\n"
          ]
        }
      ],
      "source": [
        "from sklearn.model_selection import RandomizedSearchCV\n",
        "from scipy.stats import randint, uniform\n",
        "param_dist = {\n",
        "    'n_neighbors': randint(1,50 ),             # Number of neighbors\n",
        "    'weights': ['uniform', 'distance'],        # Weight function\n",
        "    'p': [1, 2]                                #Power parameters\n",
        "}\n",
        "start_time = time.time()\n",
        "random_search = RandomizedSearchCV(KNN_mobile, param_distributions=param_dist, n_iter=100, cv=20) #Random search\n",
        "random_search.fit(X_train, y_train)            #Training of algorithm\n",
        "end_time = time.time()\n",
        "execution_time = end_time - start_time\n",
        "best_params = random_search.best_params_       #best hyperparameters\n",
        "best_model = random_search.best_estimator_\n",
        "# Evaluate the best model on the test data\n",
        "test_accuracy = best_model.score(X_test, y_test)\n",
        "print('Test accuracy:', test_accuracy)\n",
        "print('Time taken (in seconds):', execution_time)"
      ]
    },
    {
      "cell_type": "markdown",
      "metadata": {
        "id": "bl9Viw2GCht4"
      },
      "source": [
        "**Grid search for RFC**"
      ]
    },
    {
      "cell_type": "code",
      "execution_count": null,
      "metadata": {
        "colab": {
          "base_uri": "https://localhost:8080/"
        },
        "id": "6SdLqhU4CiE2",
        "outputId": "bb1f6a6d-07b1-4fb1-dd59-fad6ca336e4c"
      },
      "outputs": [
        {
          "output_type": "stream",
          "name": "stdout",
          "text": [
            "Test accuracy: 0.8933333333333333\n",
            "Time taken (in seconds): 849.0550863742828\n"
          ]
        }
      ],
      "source": [
        "from sklearn.model_selection import GridSearchCV\n",
        "param_dist = {\n",
        "    'n_estimators': [100, 200, 400],                    # Number of trees\n",
        "    'max_features': np.arange(0.1, 0.5, 0.1),           # features to be consider at each split\n",
        "    'min_samples_split': [2, 5, 10],                    # Minimum number of samples\n",
        "    'min_samples_leaf': [1, 5, 10],                     # Minimum number of samples required to be at a leaf node\n",
        "    'bootstrap': [True, False]                          # bootstrap samples are used or not used when building trees\n",
        "}\n",
        "start_time = time.time()\n",
        "grid_search = GridSearchCV(RFC_mobile, param_dist, cv=5,n_jobs=-1)   #Grid search\n",
        "grid_search.fit(X_train, y_train)  # Use full data for grid search\n",
        "end_time = time.time()\n",
        "execution_time = end_time - start_time\n",
        "best_params = grid_search.best_params_\n",
        "best_model = grid_search.best_estimator_\n",
        "test_accuracy = best_model.score(X_test, y_test)\n",
        "print('Test accuracy:', test_accuracy)\n",
        "print('Time taken (in seconds):', execution_time)"
      ]
    },
    {
      "cell_type": "markdown",
      "metadata": {
        "id": "0ngTOKY_GWuS"
      },
      "source": [
        "**Grid search for SVC**"
      ]
    },
    {
      "cell_type": "code",
      "execution_count": null,
      "metadata": {
        "id": "rrfCjxMYGXVK",
        "colab": {
          "base_uri": "https://localhost:8080/"
        },
        "outputId": "71e75f37-2cda-4fb1-d277-4e5d2f585da7"
      },
      "outputs": [
        {
          "output_type": "stream",
          "name": "stdout",
          "text": [
            "Test accuracy: 0.9583333333333334\n",
            "Time taken (in seconds): 272.22037267684937\n"
          ]
        }
      ],
      "source": [
        "from sklearn.model_selection import GridSearchCV\n",
        "param_grid = {\n",
        "    'C': [0.1, 1.0, 10.0],\n",
        "    'kernel': ['linear', 'rbf'],\n",
        "    'gamma': [0.001, 0.01, 0.1, 'scale', 'auto']\n",
        "}\n",
        "start_time = time.time()\n",
        "grid_search = GridSearchCV(SVC_mobile, param_grid, cv=5)\n",
        "grid_search.fit(X_train, y_train)\n",
        "end_time = time.time()\n",
        "execution_time = end_time - start_time\n",
        "best_params = grid_search.best_params_\n",
        "best_model = grid_search.best_estimator_\n",
        "test_accuracy = best_model.score(X_test, y_test)\n",
        "print('Test accuracy:', test_accuracy)\n",
        "print('Time taken (in seconds):', execution_time)"
      ]
    },
    {
      "cell_type": "markdown",
      "metadata": {
        "id": "mCY9jwNqGXmt"
      },
      "source": [
        "**Grid search for KNN**"
      ]
    },
    {
      "cell_type": "code",
      "execution_count": null,
      "metadata": {
        "id": "OlrQ-F8GGYS-",
        "colab": {
          "base_uri": "https://localhost:8080/"
        },
        "outputId": "c263e1af-a3fc-4d58-ed75-ba4ea4c5da9c"
      },
      "outputs": [
        {
          "output_type": "stream",
          "name": "stdout",
          "text": [
            "Best Hyperparameters: {'n_neighbors': 13, 'p': 3, 'weights': 'distance'}\n",
            "Test accuracy: 0.94\n",
            "Time taken (in seconds): 116.056964635849\n"
          ]
        }
      ],
      "source": [
        "\n",
        "classifier = KNeighborsClassifier()  # Use KNeighborsClassifier for KNN\n",
        "param_grid = {\n",
        "    'n_neighbors': range(1, 50),         # Number of neighbors\n",
        "    'weights': ['uniform', 'distance'],  # Weight function\n",
        "    'p': [1, 3]                          # Power parameter (1 for Manhattan, 2 for Euclidean)\n",
        "}\n",
        "start_time = time.time()\n",
        "grid_search = GridSearchCV(KNN_mobile, param_grid, cv=5) #grid search\n",
        "grid_search.fit(X_train, y_train)\n",
        "end_time = time.time()\n",
        "execution_time = end_time - start_time\n",
        "best_params = grid_search.best_params_\n",
        "best_model = grid_search.best_estimator_\n",
        "test_accuracy = best_model.score(X_test, y_test)\n",
        "print('Best Hyperparameters:', best_params)\n",
        "print('Test accuracy:', test_accuracy)            #accuracy at the test set\n",
        "print('Time taken (in seconds):', execution_time)"
      ]
    },
    {
      "cell_type": "markdown",
      "metadata": {
        "id": "Ebhu-77T72Tb"
      },
      "source": [
        "**K-MAP of best model at default hyperparametersbold text**"
      ]
    },
    {
      "cell_type": "code",
      "execution_count": null,
      "metadata": {
        "colab": {
          "base_uri": "https://localhost:8080/",
          "height": 755
        },
        "id": "yYd30J2b6GwN",
        "outputId": "d37e8d89-c868-4369-b433-441559ea838a"
      },
      "outputs": [
        {
          "output_type": "display_data",
          "data": {
            "text/plain": [
              "<Figure size 800x600 with 2 Axes>"
            ],
            "image/png": "[encoded data removed]"
          },
          "metadata": {}
        },
        {
          "output_type": "stream",
          "name": "stdout",
          "text": [
            "              precision    recall  f1-score   support\n",
            "\n",
            "           0       0.96      0.98      0.97       163\n",
            "           1       0.95      0.94      0.95       150\n",
            "           2       0.95      0.94      0.94       139\n",
            "           3       0.97      0.97      0.97       148\n",
            "\n",
            "    accuracy                           0.96       600\n",
            "   macro avg       0.96      0.96      0.96       600\n",
            "weighted avg       0.96      0.96      0.96       600\n",
            "\n"
          ]
        }
      ],
      "source": [
        "from sklearn.metrics import confusion_matrix, classification_report\n",
        "y_pred = random_search_SVC.predict(X_test)         # prediction on the test dataset\n",
        "cm = confusion_matrix(y_test, y_pred)       #creation of confusion matrix\n",
        "plt.figure(figsize=(8, 6))\n",
        "sns.heatmap(cm, annot=True, fmt='d', cmap='Blues')\n",
        "plt.xlabel('Predicted Labels')\n",
        "plt.ylabel('True Labels')\n",
        "plt.title('Confusion Matrix')\n",
        "plt.show()\n",
        "print(classification_report(y_test, y_pred))   # print classification report"
      ]
    }
  ],
  "metadata": {
    "colab": {
      "provenance": [],
      "mount_file_id": "1SpmfcsaMYeXBHPC4f0atX_1c6b5PqoYO",
      "authorship_tag": "ABX9TyML7ek3LhZjH7fIrr+XBP0D",
      "include_colab_link": true
    },
    "kernelspec": {
      "display_name": "Python 3",
      "name": "python3"
    },
    "language_info": {
      "name": "python"
    }
  },
  "nbformat": 4,
  "nbformat_minor": 0
}